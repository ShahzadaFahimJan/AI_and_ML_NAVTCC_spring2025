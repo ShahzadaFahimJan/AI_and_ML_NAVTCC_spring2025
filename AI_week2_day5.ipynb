{
  "nbformat": 4,
  "nbformat_minor": 0,
  "metadata": {
    "colab": {
      "provenance": [],
      "authorship_tag": "ABX9TyMtHrK1CoEXg9AjyO/GYwfP",
      "include_colab_link": true
    },
    "kernelspec": {
      "name": "python3",
      "display_name": "Python 3"
    },
    "language_info": {
      "name": "python"
    }
  },
  "cells": [
    {
      "cell_type": "markdown",
      "metadata": {
        "id": "view-in-github",
        "colab_type": "text"
      },
      "source": [
        "<a href=\"https://colab.research.google.com/github/ShahzadaFahimJan/AI_and_ML_NAVTCC_spring2025/blob/main/AI_week2_day5.ipynb\" target=\"_parent\"><img src=\"https://colab.research.google.com/assets/colab-badge.svg\" alt=\"Open In Colab\"/></a>"
      ]
    },
    {
      "cell_type": "code",
      "execution_count": null,
      "metadata": {
        "colab": {
          "base_uri": "https://localhost:8080/"
        },
        "id": "xPJG50G9_Phy",
        "outputId": "a113ecaf-82f8-4dfa-c1f3-bec123c3a706"
      },
      "outputs": [
        {
          "output_type": "stream",
          "name": "stdout",
          "text": [
            "Dataset: [2, 4, 6, 8, 10, 12, 14, 16, 18, 20]\n",
            "Range: 18\n",
            "Variance: 36.67\n",
            "Standard Deviation: 6.06\n"
          ]
        }
      ],
      "source": [
        "import statistics\n",
        "\n",
        "# Sample dataset\n",
        "data = [2, 4, 6, 8, 10, 12, 14, 16, 18, 20]\n",
        "\n",
        "# Calculate Range\n",
        "data_range = max(data) - min(data)\n",
        "\n",
        "# Calculate Variance\n",
        "variance = statistics.variance(data)  # Uses sample variance formula (n-1 in denominator)\n",
        "\n",
        "# Calculate Standard Deviation\n",
        "std_dev = statistics.stdev(data)  # Uses sample standard deviation\n",
        "\n",
        "# Print results\n",
        "print(f\"Dataset: {data}\")\n",
        "print(f\"Range: {data_range}\")\n",
        "print(f\"Variance: {variance:.2f}\")\n",
        "print(f\"Standard Deviation: {std_dev:.2f}\")\n"
      ]
    },
    {
      "cell_type": "code",
      "source": [
        "import statistics\n",
        "\n",
        "# Sample dataset\n",
        "data = [2, 4, 6, 8, 10, 12, 14, 16, 18, 20]\n",
        "\n",
        "# Calculate mean and standard deviation\n",
        "mean = statistics.mean(data)\n",
        "std_dev = statistics.stdev(data)\n",
        "\n",
        "# Calculate Coefficient of Variation (CV)\n",
        "cv = (std_dev / mean) * 100\n",
        "\n",
        "# Print result\n",
        "print(f\"Mean: {mean}\")\n",
        "print(f\"Standard Deviation: {std_dev}\")\n",
        "print(f\"Coefficient of Variation (CV): {cv:.2f}%\")\n"
      ],
      "metadata": {
        "colab": {
          "base_uri": "https://localhost:8080/"
        },
        "id": "SmvuTeIDzhEb",
        "outputId": "3be85d80-5ef7-4910-943c-badd5b2f7b3c"
      },
      "execution_count": null,
      "outputs": [
        {
          "output_type": "stream",
          "name": "stdout",
          "text": [
            "Mean: 11\n",
            "Standard Deviation: 6.0553007081949835\n",
            "Coefficient of Variation (CV): 55.05%\n"
          ]
        }
      ]
    },
    {
      "cell_type": "markdown",
      "source": [],
      "metadata": {
        "id": "sm5l5S5FzfrN"
      }
    },
    {
      "cell_type": "code",
      "source": [
        "import numpy as np\n",
        "from scipy.stats import skew, kurtosis\n",
        "\n",
        "# Example data\n",
        "data = [10, 12, 14, 15, 16, 18, 20, 21, 22, 25]\n",
        "\n",
        "# Calculate skewness\n",
        "skewness = skew(data)\n",
        "\n",
        "# Calculate kurtosis (excess kurtosis)\n",
        "kurt = kurtosis(data)\n",
        "\n",
        "# Print results\n",
        "print(f\"Skewness: {skewness}\")\n",
        "print(f\"Kurtosis: {kurt}\")\n",
        "\n"
      ],
      "metadata": {
        "colab": {
          "base_uri": "https://localhost:8080/"
        },
        "id": "MtWyWId8_TGG",
        "outputId": "d816b1b6-8d20-4415-f90a-45c4ebdc40ce"
      },
      "execution_count": null,
      "outputs": [
        {
          "output_type": "stream",
          "name": "stdout",
          "text": [
            "Skewness: 0.04715198625278907\n",
            "Kurtosis: -1.0358690454826012\n"
          ]
        }
      ]
    },
    {
      "cell_type": "code",
      "source": [
        "import numpy as np\n",
        "from scipy.stats import percentileofscore\n",
        "\n",
        "# Example data\n",
        "data = [10, 12, 14, 15, 16, 18, 20, 21, 22, 25]\n",
        "\n",
        "# Z-score calculation\n",
        "mean = np.mean(data)\n",
        "std_dev = np.std(data)\n",
        "z_scores = [(x - mean) / std_dev for x in data]\n",
        "\n",
        "# Print Z-scores\n",
        "print(\"Z-scores:\", z_scores)\n",
        "\n",
        "# Percentile calculation for a specific value (e.g., 18)\n",
        "percentile_18 = percentileofscore(data, 18)\n",
        "\n",
        "# Print percentile of value 18\n",
        "print(f\"Percentile of 18: {percentile_18}\")\n",
        "\n",
        "# Quartile calculation using numpy\n",
        "quartiles = np.percentile(data, [25, 50, 75])\n",
        "\n",
        "# Print quartiles (Q1, Median (Q2), Q3)\n",
        "print(f\"Quartiles: 25th: {quartiles[0]}, Median (50th): {quartiles[1]}, 75th: {quartiles[2]}\")\n"
      ],
      "metadata": {
        "id": "atVUMXNL_dyt",
        "colab": {
          "base_uri": "https://localhost:8080/"
        },
        "outputId": "012421d4-3a87-4549-8898-69de7d8074ea"
      },
      "execution_count": null,
      "outputs": [
        {
          "output_type": "stream",
          "name": "stdout",
          "text": [
            "Z-scores: [np.float64(-1.6238267945454712), np.float64(-1.1789427412453422), np.float64(-0.7340586879452131), np.float64(-0.5116166612951486), np.float64(-0.289174634645084), np.float64(0.155709418655045), np.float64(0.6005934719551741), np.float64(0.8230354986052386), np.float64(1.045477525255303), np.float64(1.7128036052054967)]\n",
            "Percentile of 18: 60.0\n",
            "Quartiles: 25th: 14.25, Median (50th): 17.0, 75th: 20.75\n"
          ]
        }
      ]
    },
    {
      "cell_type": "code",
      "source": [],
      "metadata": {
        "id": "4wnmrykQ07yJ"
      },
      "execution_count": null,
      "outputs": []
    }
  ]
}