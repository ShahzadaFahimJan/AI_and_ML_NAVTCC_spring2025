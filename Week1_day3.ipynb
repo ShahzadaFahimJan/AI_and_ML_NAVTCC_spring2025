{
  "nbformat": 4,
  "nbformat_minor": 0,
  "metadata": {
    "colab": {
      "provenance": [],
      "authorship_tag": "ABX9TyPGSp9oG1wxsmSlVrbBjUut",
      "include_colab_link": true
    },
    "kernelspec": {
      "name": "python3",
      "display_name": "Python 3"
    },
    "language_info": {
      "name": "python"
    }
  },
  "cells": [
    {
      "cell_type": "markdown",
      "metadata": {
        "id": "view-in-github",
        "colab_type": "text"
      },
      "source": [
        "<a href=\"https://colab.research.google.com/github/ShahzadaFahimJan/AI_and_ML_NAVTCC_spring2025/blob/main/Week1_day3.ipynb\" target=\"_parent\"><img src=\"https://colab.research.google.com/assets/colab-badge.svg\" alt=\"Open In Colab\"/></a>"
      ]
    },
    {
      "cell_type": "code",
      "execution_count": null,
      "metadata": {
        "colab": {
          "base_uri": "https://localhost:8080/"
        },
        "id": "X0CU4SzmCLO2",
        "outputId": "2d5b9dcf-0e95-44c3-b7cf-67ad0f165b67"
      },
      "outputs": [
        {
          "output_type": "stream",
          "name": "stdout",
          "text": [
            "10\n"
          ]
        }
      ],
      "source": [
        "print(10) #integar"
      ]
    },
    {
      "cell_type": "markdown",
      "source": [
        "Values"
      ],
      "metadata": {
        "id": "iL4yL6ZiEnqA"
      }
    },
    {
      "cell_type": "code",
      "source": [
        "print(\"fahim\") #string"
      ],
      "metadata": {
        "colab": {
          "base_uri": "https://localhost:8080/"
        },
        "id": "j2KtP5WCDFGp",
        "outputId": "73eaba3c-2eaa-4463-b94d-ffb49dbef11a"
      },
      "execution_count": null,
      "outputs": [
        {
          "output_type": "stream",
          "name": "stdout",
          "text": [
            "fahim\n"
          ]
        }
      ]
    },
    {
      "cell_type": "code",
      "source": [
        "print(True) #boolean"
      ],
      "metadata": {
        "colab": {
          "base_uri": "https://localhost:8080/"
        },
        "id": "YMhEC7ysDGNt",
        "outputId": "95099666-db1d-4964-de82-7a5c10a721cf"
      },
      "execution_count": null,
      "outputs": [
        {
          "output_type": "stream",
          "name": "stdout",
          "text": [
            "True\n"
          ]
        }
      ]
    },
    {
      "cell_type": "code",
      "source": [
        "print(False) #bool"
      ],
      "metadata": {
        "colab": {
          "base_uri": "https://localhost:8080/"
        },
        "id": "ntP9AUWsDHgb",
        "outputId": "429ed292-c21f-4643-89a1-4d4f0a2cb13c"
      },
      "execution_count": null,
      "outputs": [
        {
          "output_type": "stream",
          "name": "stdout",
          "text": [
            "False\n"
          ]
        }
      ]
    },
    {
      "cell_type": "code",
      "source": [
        "print(3.14449999) #float"
      ],
      "metadata": {
        "colab": {
          "base_uri": "https://localhost:8080/"
        },
        "id": "cl9-NMHpDIgN",
        "outputId": "66c0687f-1b03-4dc9-ac2a-c6c6a93bda41"
      },
      "execution_count": 1,
      "outputs": [
        {
          "output_type": "stream",
          "name": "stdout",
          "text": [
            "3.14449999\n"
          ]
        }
      ]
    },
    {
      "cell_type": "markdown",
      "source": [
        "expressions\n",
        "\n"
      ],
      "metadata": {
        "id": "XtcPIaaNEpwb"
      }
    },
    {
      "cell_type": "code",
      "source": [
        "x = 10 + 5   # expression: 10 +  5 produces result (15)\n",
        "y = x * 2\n",
        "print(y) # Statement (performs an action, no value)\n"
      ],
      "metadata": {
        "colab": {
          "base_uri": "https://localhost:8080/"
        },
        "id": "gbBDU3l1DKEr",
        "outputId": "585077a7-2cbc-481a-ba5c-d3c8eda082f2"
      },
      "execution_count": null,
      "outputs": [
        {
          "output_type": "stream",
          "name": "stdout",
          "text": [
            "30\n"
          ]
        }
      ]
    },
    {
      "cell_type": "markdown",
      "source": [
        "Types of Expressions\n",
        "Arithmetic Expressions (Use mathematical operations)"
      ],
      "metadata": {
        "id": "BWegwRwQ3ifs"
      }
    },
    {
      "cell_type": "code",
      "source": [
        "a = 5 + 3 * 2\n",
        "\n",
        "print(a)"
      ],
      "metadata": {
        "colab": {
          "base_uri": "https://localhost:8080/"
        },
        "id": "JZfay4413fG1",
        "outputId": "dadc5a25-d120-445e-995b-c5386b7b26dc"
      },
      "execution_count": 3,
      "outputs": [
        {
          "output_type": "stream",
          "name": "stdout",
          "text": [
            "11\n"
          ]
        }
      ]
    },
    {
      "cell_type": "markdown",
      "source": [
        "Boolean Expressions (Evaluate to True or False)"
      ],
      "metadata": {
        "id": "aBkhOEV53tuF"
      }
    },
    {
      "cell_type": "code",
      "source": [
        "is_greater = (10 > 5)\n",
        "\n",
        "is_greater"
      ],
      "metadata": {
        "colab": {
          "base_uri": "https://localhost:8080/"
        },
        "id": "TZddpmkP3u-d",
        "outputId": "210e361c-0ede-4df7-8099-8625713f2d6a"
      },
      "execution_count": 6,
      "outputs": [
        {
          "output_type": "execute_result",
          "data": {
            "text/plain": [
              "True"
            ]
          },
          "metadata": {},
          "execution_count": 6
        }
      ]
    },
    {
      "cell_type": "markdown",
      "source": [
        "String Expressions"
      ],
      "metadata": {
        "id": "kF_juQIh32Jz"
      }
    },
    {
      "cell_type": "code",
      "source": [
        "name = \"Hello\" + \" World\"   # + operator concatenate two strings\n",
        "name"
      ],
      "metadata": {
        "colab": {
          "base_uri": "https://localhost:8080/",
          "height": 36
        },
        "id": "Wi5Pmp2K34SA",
        "outputId": "f4d9bfe9-71e6-4e22-8c4d-d85255de9f05"
      },
      "execution_count": 9,
      "outputs": [
        {
          "output_type": "execute_result",
          "data": {
            "text/plain": [
              "'Hello World'"
            ],
            "application/vnd.google.colaboratory.intrinsic+json": {
              "type": "string"
            }
          },
          "metadata": {},
          "execution_count": 9
        }
      ]
    },
    {
      "cell_type": "markdown",
      "source": [
        "<b>Statements</b>"
      ],
      "metadata": {
        "id": "lPCC1PGqEtIv"
      }
    },
    {
      "cell_type": "markdown",
      "source": [
        "Numbers, Booleans, and Strings"
      ],
      "metadata": {
        "id": "RPCjR5y9Eg27"
      }
    },
    {
      "cell_type": "code",
      "source": [
        "a = 10\n",
        "b = 3.14\n",
        "c = 2 + 3j\n",
        "print(type(a), type(b), type(c)) #get the data type of the variable\n"
      ],
      "metadata": {
        "colab": {
          "base_uri": "https://localhost:8080/"
        },
        "id": "_kMFQ3M4Dg-l",
        "outputId": "d341b6b8-9dda-4b4e-8b66-9e19df9fedd8"
      },
      "execution_count": 15,
      "outputs": [
        {
          "output_type": "stream",
          "name": "stdout",
          "text": [
            "<class 'int'> <class 'float'> <class 'complex'>\n"
          ]
        }
      ]
    },
    {
      "cell_type": "markdown",
      "source": [
        "Booleans in Python"
      ],
      "metadata": {
        "id": "2Wi561TEEcBI"
      }
    },
    {
      "cell_type": "code",
      "source": [
        "is_python_easy = True\n",
        "print(is_python_easy)    # Output: True\n",
        "print(5 > 10)            # Output: False\n"
      ],
      "metadata": {
        "colab": {
          "base_uri": "https://localhost:8080/"
        },
        "id": "h_ZH2CzGD7r_",
        "outputId": "9bf5211a-1e3a-44e0-8801-96a65496dd8c"
      },
      "execution_count": null,
      "outputs": [
        {
          "output_type": "stream",
          "name": "stdout",
          "text": [
            "True\n",
            "False\n"
          ]
        }
      ]
    },
    {
      "cell_type": "markdown",
      "source": [],
      "metadata": {
        "id": "xRx_SN5kEaEU"
      }
    },
    {
      "cell_type": "markdown",
      "source": [
        "Strings in Python\n",
        "String variables can be declared either by using single or double quotes:"
      ],
      "metadata": {
        "id": "jo4PoqJvF8Uf"
      }
    },
    {
      "cell_type": "code",
      "source": [
        "x = \"John\"\n",
        "# is the same as\n",
        "x = 'John'\n",
        "print(x)"
      ],
      "metadata": {
        "colab": {
          "base_uri": "https://localhost:8080/"
        },
        "id": "nO-_YwboGBHS",
        "outputId": "9ced3d94-1cdb-4ffb-abe5-d53cf93812c8"
      },
      "execution_count": 17,
      "outputs": [
        {
          "output_type": "stream",
          "name": "stdout",
          "text": [
            "John\n"
          ]
        }
      ]
    },
    {
      "cell_type": "code",
      "source": [
        "text = \"Python is awesome!\"\n",
        "print(text)\n"
      ],
      "metadata": {
        "colab": {
          "base_uri": "https://localhost:8080/"
        },
        "id": "rGhu5GWMF87S",
        "outputId": "b17cb392-f1e8-45ce-c222-5d2f1515b25f"
      },
      "execution_count": null,
      "outputs": [
        {
          "output_type": "stream",
          "name": "stdout",
          "text": [
            "Python is awesome!\n"
          ]
        }
      ]
    },
    {
      "cell_type": "markdown",
      "source": [
        "Operators, Variables, and Keywords"
      ],
      "metadata": {
        "id": "CvEACKM2GDZF"
      }
    },
    {
      "cell_type": "code",
      "source": [
        "x = 10\n",
        "y = 3\n",
        "print(x + y)    # Addition\n",
        "print(x // y)   # Floor division\n",
        "print(x > y)    # Comparison (True or False)\n"
      ],
      "metadata": {
        "colab": {
          "base_uri": "https://localhost:8080/"
        },
        "id": "bJi5aPSfF-Ty",
        "outputId": "42c6c318-2ec9-4b8d-d429-d8eb28d43911"
      },
      "execution_count": null,
      "outputs": [
        {
          "output_type": "stream",
          "name": "stdout",
          "text": [
            "13\n",
            "3\n",
            "True\n"
          ]
        }
      ]
    },
    {
      "cell_type": "markdown",
      "source": [
        " Variables in Python"
      ],
      "metadata": {
        "id": "gmJ-iY6mGNmc"
      }
    },
    {
      "cell_type": "code",
      "source": [
        "name = \"Alice\"\n",
        "age = 25\n",
        "print(name, age)\n"
      ],
      "metadata": {
        "colab": {
          "base_uri": "https://localhost:8080/"
        },
        "id": "xCuRz_HOGN8K",
        "outputId": "425d250b-e957-4182-ff9e-56ef370158f7"
      },
      "execution_count": null,
      "outputs": [
        {
          "output_type": "stream",
          "name": "stdout",
          "text": [
            "Alice 25\n"
          ]
        }
      ]
    },
    {
      "cell_type": "code",
      "source": [
        "x = 5\n",
        "y = \"John\"\n",
        "print(x)\n",
        "print(y)"
      ],
      "metadata": {
        "colab": {
          "base_uri": "https://localhost:8080/"
        },
        "id": "_BhdYiDcFl28",
        "outputId": "2a353fdc-4ce4-4611-db7c-3d0532ba7503"
      },
      "execution_count": 12,
      "outputs": [
        {
          "output_type": "stream",
          "name": "stdout",
          "text": [
            "5\n",
            "John\n"
          ]
        }
      ]
    },
    {
      "cell_type": "markdown",
      "source": [
        "Case-Sensitive\n",
        "Variable names are case-sensitive.\n",
        "\n"
      ],
      "metadata": {
        "id": "fadqieuCGHwV"
      }
    },
    {
      "cell_type": "code",
      "source": [
        "a = 4\n",
        "A = \"Sally\"\n",
        "#A will not overwrite a\n",
        "print(a,A)"
      ],
      "metadata": {
        "colab": {
          "base_uri": "https://localhost:8080/"
        },
        "id": "9tY8v-ayGK5e",
        "outputId": "99c5260f-a411-4af0-c9c2-2ca174035194"
      },
      "execution_count": 18,
      "outputs": [
        {
          "output_type": "stream",
          "name": "stdout",
          "text": [
            "4 Sally\n"
          ]
        }
      ]
    },
    {
      "cell_type": "markdown",
      "source": [
        "Variable Names\n",
        "A variable can have a short name (like x and y) or a more descriptive name (age, carname, total_volume).\n",
        "\n",
        "Rules for Python variables:\n",
        "\n",
        "A variable name must start with a letter or the underscore character\n",
        "A variable name cannot start with a number\n",
        "A variable name can only contain alpha-numeric characters and underscores (A-z, 0-9, and _ )\n",
        "Variable names are case-sensitive (age, Age and AGE are three different variables)\n",
        "A variable name cannot be any of the Python keywords."
      ],
      "metadata": {
        "id": "Xxa9EvkkGVV8"
      }
    },
    {
      "cell_type": "code",
      "source": [
        "myvar = \"John\"\n",
        "my_var = \"John\"\n",
        "_my_var = \"John\"\n",
        "myVar = \"John\"\n",
        "MYVAR = \"John\"\n",
        "myvar2 = \"John\"\n",
        "myvar"
      ],
      "metadata": {
        "colab": {
          "base_uri": "https://localhost:8080/",
          "height": 36
        },
        "id": "WXAnWM9bGZl5",
        "outputId": "5b7c0962-8a98-4de8-c966-260f3668df4c"
      },
      "execution_count": 20,
      "outputs": [
        {
          "output_type": "execute_result",
          "data": {
            "text/plain": [
              "'John'"
            ],
            "application/vnd.google.colaboratory.intrinsic+json": {
              "type": "string"
            }
          },
          "metadata": {},
          "execution_count": 20
        }
      ]
    },
    {
      "cell_type": "markdown",
      "source": [
        "Multi Words Variable Names\n",
        "Variable names with more than one word can be difficult to read.\n",
        "\n",
        "There are several techniques you can use to make them more readable:\n",
        "\n",
        "Camel Case\n",
        "Each word, except the first, starts with a capital letter:"
      ],
      "metadata": {
        "id": "PdPzA_mvGhWq"
      }
    },
    {
      "cell_type": "code",
      "source": [
        "myVariableName = \"John\"\n",
        "print(myVariableName)"
      ],
      "metadata": {
        "colab": {
          "base_uri": "https://localhost:8080/"
        },
        "id": "T8zRMnMOGie1",
        "outputId": "9d8c2cf2-428c-415c-bc5f-fc1a14d929fd"
      },
      "execution_count": 21,
      "outputs": [
        {
          "output_type": "stream",
          "name": "stdout",
          "text": [
            "John\n"
          ]
        }
      ]
    },
    {
      "cell_type": "markdown",
      "source": [
        "Pascal Case\n",
        "Each word starts with a capital letter:"
      ],
      "metadata": {
        "id": "MIWlX7HNGo39"
      }
    },
    {
      "cell_type": "code",
      "source": [
        "MyVariableName = \"John\""
      ],
      "metadata": {
        "id": "p3FktLloGpkU"
      },
      "execution_count": null,
      "outputs": []
    },
    {
      "cell_type": "markdown",
      "source": [
        "Snake Case\n",
        "Each word is separated by an underscore character:"
      ],
      "metadata": {
        "id": "G6QTs_NfGzVt"
      }
    },
    {
      "cell_type": "code",
      "source": [
        "my_variable_name = \"John\""
      ],
      "metadata": {
        "id": "1ScKn5a1Gz7S"
      },
      "execution_count": 22,
      "outputs": []
    },
    {
      "cell_type": "markdown",
      "source": [
        "Python Variables - Assign Multiple Values\n",
        "Many Values to Multiple Variables\n",
        "Python allows you to assign values to multiple variables in one line:"
      ],
      "metadata": {
        "id": "aCPSpVPuG605"
      }
    },
    {
      "cell_type": "code",
      "source": [
        "x, y, z = \"Orange\", \"Banana\", \"Cherry\"\n",
        "print(x)\n",
        "print(y)\n",
        "print(z)"
      ],
      "metadata": {
        "colab": {
          "base_uri": "https://localhost:8080/"
        },
        "id": "njCoLzPAG7rE",
        "outputId": "cfa08173-52f5-4657-a273-ec30f4237c40"
      },
      "execution_count": 23,
      "outputs": [
        {
          "output_type": "stream",
          "name": "stdout",
          "text": [
            "Orange\n",
            "Banana\n",
            "Cherry\n"
          ]
        }
      ]
    },
    {
      "cell_type": "markdown",
      "source": [
        "One Value to Multiple Variables\n",
        "And you can assign the same value to multiple variables in one line:"
      ],
      "metadata": {
        "id": "wf0TJW3dHCNy"
      }
    },
    {
      "cell_type": "code",
      "source": [
        "x = y = z = \"Orange\"\n",
        "print(x)\n",
        "print(y)\n",
        "print(z)"
      ],
      "metadata": {
        "colab": {
          "base_uri": "https://localhost:8080/"
        },
        "id": "FF5XrJqPHGDp",
        "outputId": "854111f6-b8a7-4d16-a9f1-e95aa72ff0c7"
      },
      "execution_count": 43,
      "outputs": [
        {
          "output_type": "stream",
          "name": "stdout",
          "text": [
            "Orange\n",
            "Orange\n",
            "Orange\n"
          ]
        }
      ]
    },
    {
      "cell_type": "markdown",
      "source": [],
      "metadata": {
        "id": "FWfK-D3LHO1j"
      }
    },
    {
      "cell_type": "markdown",
      "source": [
        "Output Variables\n",
        "The Python print() function is often used to output variables."
      ],
      "metadata": {
        "id": "mSf6ZrvZHO5t"
      }
    },
    {
      "cell_type": "code",
      "source": [
        "x = \"Python is awesome\"\n",
        "print(x)"
      ],
      "metadata": {
        "colab": {
          "base_uri": "https://localhost:8080/"
        },
        "id": "uCq196X6HRC-",
        "outputId": "b9e958c0-c567-427c-cd63-8ebd3b4bb4f2"
      },
      "execution_count": 24,
      "outputs": [
        {
          "output_type": "stream",
          "name": "stdout",
          "text": [
            "Python is awesome\n"
          ]
        }
      ]
    },
    {
      "cell_type": "markdown",
      "source": [
        "In the print() function, you output multiple variables, separated by a comma:"
      ],
      "metadata": {
        "id": "DoptrzOnHTxn"
      }
    },
    {
      "cell_type": "code",
      "source": [
        "x = \"Python\"\n",
        "y = \"is\"\n",
        "z = \"awesome\"\n",
        "print(x, y, z)"
      ],
      "metadata": {
        "colab": {
          "base_uri": "https://localhost:8080/"
        },
        "id": "F3XMd-L0HUxt",
        "outputId": "a140e9ac-b73a-4a15-beb0-f84539685ff1"
      },
      "execution_count": 25,
      "outputs": [
        {
          "output_type": "stream",
          "name": "stdout",
          "text": [
            "Python is awesome\n"
          ]
        }
      ]
    },
    {
      "cell_type": "markdown",
      "source": [
        "You can also use the + operator to output multiple variables:"
      ],
      "metadata": {
        "id": "KJ_oS0WnHYqK"
      }
    },
    {
      "cell_type": "code",
      "source": [
        "x = \"Python \"\n",
        "y = \"is \"\n",
        "z = \"awesome\"\n",
        "print(x + y + z)"
      ],
      "metadata": {
        "colab": {
          "base_uri": "https://localhost:8080/"
        },
        "id": "2F5l9qa5HZZD",
        "outputId": "043a8df5-dbc3-4162-8b0b-db4d7104259e"
      },
      "execution_count": 26,
      "outputs": [
        {
          "output_type": "stream",
          "name": "stdout",
          "text": [
            "Python is awesome\n"
          ]
        }
      ]
    },
    {
      "cell_type": "markdown",
      "source": [
        "For numbers, the + character works as a mathematical operator:"
      ],
      "metadata": {
        "id": "3jHPsoh8Hjak"
      }
    },
    {
      "cell_type": "code",
      "source": [
        "x = 5\n",
        "y = 10\n",
        "print(x + y)"
      ],
      "metadata": {
        "id": "DQ83TUcNHj7M"
      },
      "execution_count": null,
      "outputs": []
    },
    {
      "cell_type": "markdown",
      "source": [
        "In the print() function, when you try to combine a string and a number with the + operator, Python will give you an error:"
      ],
      "metadata": {
        "id": "DugfdAWHHn5s"
      }
    },
    {
      "cell_type": "code",
      "source": [
        "x = 5\n",
        "y = \"John\"\n",
        "print(x + y)"
      ],
      "metadata": {
        "colab": {
          "base_uri": "https://localhost:8080/",
          "height": 176
        },
        "id": "LcaKOYHRHojz",
        "outputId": "c7aa2f7a-cda4-41b2-dc91-84d1c03b993e"
      },
      "execution_count": 27,
      "outputs": [
        {
          "output_type": "error",
          "ename": "TypeError",
          "evalue": "unsupported operand type(s) for +: 'int' and 'str'",
          "traceback": [
            "\u001b[0;31m---------------------------------------------------------------------------\u001b[0m",
            "\u001b[0;31mTypeError\u001b[0m                                 Traceback (most recent call last)",
            "\u001b[0;32m<ipython-input-27-00c66e4310ff>\u001b[0m in \u001b[0;36m<cell line: 0>\u001b[0;34m()\u001b[0m\n\u001b[1;32m      1\u001b[0m \u001b[0mx\u001b[0m \u001b[0;34m=\u001b[0m \u001b[0;36m5\u001b[0m\u001b[0;34m\u001b[0m\u001b[0;34m\u001b[0m\u001b[0m\n\u001b[1;32m      2\u001b[0m \u001b[0my\u001b[0m \u001b[0;34m=\u001b[0m \u001b[0;34m\"John\"\u001b[0m\u001b[0;34m\u001b[0m\u001b[0;34m\u001b[0m\u001b[0m\n\u001b[0;32m----> 3\u001b[0;31m \u001b[0mprint\u001b[0m\u001b[0;34m(\u001b[0m\u001b[0mx\u001b[0m \u001b[0;34m+\u001b[0m \u001b[0my\u001b[0m\u001b[0;34m)\u001b[0m\u001b[0;34m\u001b[0m\u001b[0;34m\u001b[0m\u001b[0m\n\u001b[0m",
            "\u001b[0;31mTypeError\u001b[0m: unsupported operand type(s) for +: 'int' and 'str'"
          ]
        }
      ]
    },
    {
      "cell_type": "markdown",
      "source": [
        "The best way to output multiple variables in the print() function is to separate them with commas, which even support different data types:"
      ],
      "metadata": {
        "id": "3_ubolzUHtWi"
      }
    },
    {
      "cell_type": "code",
      "source": [
        "x = 5\n",
        "y = \"John\"\n",
        "print(x, y)"
      ],
      "metadata": {
        "colab": {
          "base_uri": "https://localhost:8080/"
        },
        "id": "uWvzHlzRHvCV",
        "outputId": "d313039b-96c6-448e-a1cf-fb55c70b25e7"
      },
      "execution_count": 28,
      "outputs": [
        {
          "output_type": "stream",
          "name": "stdout",
          "text": [
            "5 John\n"
          ]
        }
      ]
    },
    {
      "cell_type": "markdown",
      "source": [
        "Casting\n",
        "If you want to specify the data type of a variable, this can be done with casting."
      ],
      "metadata": {
        "id": "ucWfP-vuFt-I"
      }
    },
    {
      "cell_type": "code",
      "source": [
        "x = str(3)    # x will be '3'\n",
        "y = int(3)    # y will be 3\n",
        "z = float(3)  # z will be 3.0\n",
        "print(x,y,z)"
      ],
      "metadata": {
        "colab": {
          "base_uri": "https://localhost:8080/"
        },
        "id": "bGjhYHVtFxqD",
        "outputId": "8f5cd8d0-7a57-4ee6-c2aa-02b69f909a49"
      },
      "execution_count": 14,
      "outputs": [
        {
          "output_type": "stream",
          "name": "stdout",
          "text": [
            "3 3 3.0\n"
          ]
        }
      ]
    },
    {
      "cell_type": "markdown",
      "source": [
        " Keywords in Python"
      ],
      "metadata": {
        "id": "KgxaE0QAGSig"
      }
    },
    {
      "cell_type": "markdown",
      "source": [
        "String Operations"
      ],
      "metadata": {
        "id": "TxD_Q6ljGfuN"
      }
    },
    {
      "cell_type": "code",
      "source": [
        "s1 = \"Hello\"\n",
        "s2 = \"World\"\n",
        "print(s1 + \" \" + s2)   # Concatenation\n",
        "print(s1 * 3)          # Repetition\n",
        "print(s1[1])           # Indexing (Output: 'e')\n",
        "print(s1[1:4])         # Slicing (Output: 'ell')\n"
      ],
      "metadata": {
        "colab": {
          "base_uri": "https://localhost:8080/"
        },
        "id": "KMECR9qhGgF5",
        "outputId": "c49aa504-13fb-4311-fad9-03be98668ed1"
      },
      "execution_count": null,
      "outputs": [
        {
          "output_type": "stream",
          "name": "stdout",
          "text": [
            "Hello World\n",
            "HelloHelloHello\n",
            "e\n",
            "ell\n"
          ]
        }
      ]
    },
    {
      "cell_type": "code",
      "source": [
        "b = \"Hello, World!\"\n",
        "print(b[:5])"
      ],
      "metadata": {
        "colab": {
          "base_uri": "https://localhost:8080/"
        },
        "id": "UB5XStHdOLlQ",
        "outputId": "973f9cea-6fdd-4a8c-e1b4-b68f5cad04dd"
      },
      "execution_count": 37,
      "outputs": [
        {
          "output_type": "stream",
          "name": "stdout",
          "text": [
            "Hello\n"
          ]
        }
      ]
    },
    {
      "cell_type": "markdown",
      "source": [
        "Slice To the End\n",
        "By leaving out the end index, the range will go to the end:"
      ],
      "metadata": {
        "id": "LNk-M4hLOPl4"
      }
    },
    {
      "cell_type": "code",
      "source": [
        "b = \"Hello, World!\"\n",
        "print(b[2:])"
      ],
      "metadata": {
        "colab": {
          "base_uri": "https://localhost:8080/"
        },
        "id": "WXxjXfvAOQS_",
        "outputId": "6f6094fa-abd7-4a4f-de0d-fe69c276563a"
      },
      "execution_count": 38,
      "outputs": [
        {
          "output_type": "stream",
          "name": "stdout",
          "text": [
            "llo, World!\n"
          ]
        }
      ]
    },
    {
      "cell_type": "markdown",
      "source": [
        "Strings in python are surrounded by either single quotation marks, or double quotation marks.\n",
        "\n",
        "'hello' is the same as \"hello\".\n",
        "\n",
        "You can display a string literal with the print() function:"
      ],
      "metadata": {
        "id": "QPp2uf9sJNkW"
      }
    },
    {
      "cell_type": "code",
      "source": [
        "print(\"Hello\")\n",
        "print('Hello')"
      ],
      "metadata": {
        "id": "SyuRSPHJJOLx"
      },
      "execution_count": null,
      "outputs": []
    },
    {
      "cell_type": "markdown",
      "source": [
        "Quotes Inside Quotes\n",
        "You can use quotes inside a string, as long as they don't match the quotes surrounding the string:"
      ],
      "metadata": {
        "id": "u6wWKlNbJPjv"
      }
    },
    {
      "cell_type": "code",
      "source": [
        "print(\"It's alright\")\n",
        "print(\"He is called 'Johnny'\")\n",
        "print('He is called \"Johnny\"')"
      ],
      "metadata": {
        "colab": {
          "base_uri": "https://localhost:8080/"
        },
        "id": "k4EjjWjVJUIP",
        "outputId": "28c81bd4-9eb0-419f-87b2-8609a248d1e0"
      },
      "execution_count": 29,
      "outputs": [
        {
          "output_type": "stream",
          "name": "stdout",
          "text": [
            "It's alright\n",
            "He is called 'Johnny'\n",
            "He is called \"Johnny\"\n"
          ]
        }
      ]
    },
    {
      "cell_type": "markdown",
      "source": [
        "Assign String to a Variable\n",
        "Assigning a string to a variable is done with the variable name followed by an equal sign and the string:"
      ],
      "metadata": {
        "id": "pRRfovEIJYSU"
      }
    },
    {
      "cell_type": "code",
      "source": [
        "a = \"Hello\"\n",
        "print(a)"
      ],
      "metadata": {
        "id": "VRGGlDhTJY5q"
      },
      "execution_count": null,
      "outputs": []
    },
    {
      "cell_type": "markdown",
      "source": [
        "Multiline Strings\n",
        "You can assign a multiline string to a variable by using three quotes:"
      ],
      "metadata": {
        "id": "rXj5l-fUJaH6"
      }
    },
    {
      "cell_type": "code",
      "source": [
        "a = \"\"\"Lorem ipsum dolor sit amet,\n",
        "consectetur adipiscing elit,\n",
        "sed do eiusmod tempor incididunt\n",
        "ut labore et dolore magna aliqua.\"\"\"\n",
        "print(a)"
      ],
      "metadata": {
        "colab": {
          "base_uri": "https://localhost:8080/"
        },
        "id": "aDLyrhKgJcf8",
        "outputId": "c4e088bd-262b-456c-ba0f-2ad9ce34b03f"
      },
      "execution_count": 30,
      "outputs": [
        {
          "output_type": "stream",
          "name": "stdout",
          "text": [
            "Lorem ipsum dolor sit amet,\n",
            "consectetur adipiscing elit,\n",
            "sed do eiusmod tempor incididunt\n",
            "ut labore et dolore magna aliqua.\n"
          ]
        }
      ]
    },
    {
      "cell_type": "markdown",
      "source": [
        "Or three single quotes:"
      ],
      "metadata": {
        "id": "-JoPolAXJiAA"
      }
    },
    {
      "cell_type": "code",
      "source": [
        "a = '''Lorem ipsum dolor sit amet,\n",
        "consectetur adipiscing elit,\n",
        "sed do eiusmod tempor incididunt\n",
        "ut labore et dolore magna aliqua.'''\n",
        "print(a)"
      ],
      "metadata": {
        "colab": {
          "base_uri": "https://localhost:8080/"
        },
        "id": "_fMgjMltJjvz",
        "outputId": "0a092965-de0f-4afa-abde-3257eecbaf1c"
      },
      "execution_count": 31,
      "outputs": [
        {
          "output_type": "stream",
          "name": "stdout",
          "text": [
            "Lorem ipsum dolor sit amet,\n",
            "consectetur adipiscing elit,\n",
            "sed do eiusmod tempor incididunt\n",
            "ut labore et dolore magna aliqua.\n"
          ]
        }
      ]
    },
    {
      "cell_type": "markdown",
      "source": [
        "The len() function returns the length of a string:"
      ],
      "metadata": {
        "id": "ZsIEuxigNmvR"
      }
    },
    {
      "cell_type": "code",
      "source": [
        "a = \"Hello, World!\"\n",
        "print(len(a))"
      ],
      "metadata": {
        "colab": {
          "base_uri": "https://localhost:8080/"
        },
        "id": "5z2wDlYqNphK",
        "outputId": "bcfd9c1a-baf2-4a90-bfec-ab8160537c78"
      },
      "execution_count": 32,
      "outputs": [
        {
          "output_type": "stream",
          "name": "stdout",
          "text": [
            "13\n"
          ]
        }
      ]
    },
    {
      "cell_type": "markdown",
      "source": [
        "Check String\n",
        "To check if a certain phrase or character is present in a string, we can use the keyword in."
      ],
      "metadata": {
        "id": "uOwms4n9NwlQ"
      }
    },
    {
      "cell_type": "code",
      "source": [
        "txt = \"The best things in life are free!\"\n",
        "print(\"free\" in txt)"
      ],
      "metadata": {
        "colab": {
          "base_uri": "https://localhost:8080/"
        },
        "id": "jek__MYpNxLr",
        "outputId": "a08069cd-fc69-402b-e21f-7971e798ac28"
      },
      "execution_count": 33,
      "outputs": [
        {
          "output_type": "stream",
          "name": "stdout",
          "text": [
            "True\n"
          ]
        }
      ]
    },
    {
      "cell_type": "code",
      "source": [
        "txt = \"The best things in life are free!\"\n",
        "if \"free\" in txt:\n",
        "  print(\"Yes, 'free' is present.\")"
      ],
      "metadata": {
        "colab": {
          "base_uri": "https://localhost:8080/"
        },
        "id": "2h8W2HYRN5WK",
        "outputId": "941da1f8-b605-482f-b3c3-33ea4f82d925"
      },
      "execution_count": 34,
      "outputs": [
        {
          "output_type": "stream",
          "name": "stdout",
          "text": [
            "Yes, 'free' is present.\n"
          ]
        }
      ]
    },
    {
      "cell_type": "markdown",
      "source": [
        "Check if NOT\n",
        "To check if a certain phrase or character is NOT present in a string, we can use the keyword not in."
      ],
      "metadata": {
        "id": "PjhsYB3nN-EG"
      }
    },
    {
      "cell_type": "code",
      "source": [
        "txt = \"The best things in life are free!\"\n",
        "print(\"expensive\" not in txt)"
      ],
      "metadata": {
        "colab": {
          "base_uri": "https://localhost:8080/"
        },
        "id": "zLynK4N1N-y_",
        "outputId": "2eb6c1ee-471d-4f8e-ed77-4fc67257592b"
      },
      "execution_count": 35,
      "outputs": [
        {
          "output_type": "stream",
          "name": "stdout",
          "text": [
            "True\n"
          ]
        }
      ]
    },
    {
      "cell_type": "code",
      "source": [
        "txt = \"The best things in life are free!\"\n",
        "if \"expensive\" not in txt:\n",
        "  print(\"No, 'expensive' is NOT present.\")"
      ],
      "metadata": {
        "colab": {
          "base_uri": "https://localhost:8080/"
        },
        "id": "D4HL7B69OD6u",
        "outputId": "bd801364-e346-482b-a5b6-aee8c9063a93"
      },
      "execution_count": 36,
      "outputs": [
        {
          "output_type": "stream",
          "name": "stdout",
          "text": [
            "No, 'expensive' is NOT present.\n"
          ]
        }
      ]
    },
    {
      "cell_type": "markdown",
      "source": [
        "Modify Strings"
      ],
      "metadata": {
        "id": "VtI9afUAOh9E"
      }
    },
    {
      "cell_type": "code",
      "source": [
        "a = \"Hello, World!\"\n",
        "print(a.upper())"
      ],
      "metadata": {
        "colab": {
          "base_uri": "https://localhost:8080/"
        },
        "id": "OcdBhZUrOiaS",
        "outputId": "30af6222-6283-43c5-b4d1-7f5f975a91d9"
      },
      "execution_count": 39,
      "outputs": [
        {
          "output_type": "stream",
          "name": "stdout",
          "text": [
            "HELLO, WORLD!\n"
          ]
        }
      ]
    },
    {
      "cell_type": "code",
      "source": [
        "a = \"Hello, World!\"\n",
        "print(a.lower())"
      ],
      "metadata": {
        "colab": {
          "base_uri": "https://localhost:8080/"
        },
        "id": "irQVzqV4Onv1",
        "outputId": "64427073-1bec-455b-d753-cea4f65dd579"
      },
      "execution_count": 40,
      "outputs": [
        {
          "output_type": "stream",
          "name": "stdout",
          "text": [
            "hello, world!\n"
          ]
        }
      ]
    },
    {
      "cell_type": "markdown",
      "source": [
        "The strip() method removes any whitespace from the beginning or the end:"
      ],
      "metadata": {
        "id": "wAIykqYdOq__"
      }
    },
    {
      "cell_type": "code",
      "source": [
        "a = \" Hello, World! \"\n",
        "print(a.strip()) # returns \"Hello, World!\""
      ],
      "metadata": {
        "colab": {
          "base_uri": "https://localhost:8080/"
        },
        "id": "rixHiqBzOrlY",
        "outputId": "d3164d8d-a702-46c0-98d4-f084472e2183"
      },
      "execution_count": 41,
      "outputs": [
        {
          "output_type": "stream",
          "name": "stdout",
          "text": [
            "Hello, World!\n"
          ]
        }
      ]
    },
    {
      "cell_type": "code",
      "source": [
        "a = \"Hello, World!\"\n",
        "print(a.replace(\"H\", \"J\"))"
      ],
      "metadata": {
        "colab": {
          "base_uri": "https://localhost:8080/"
        },
        "id": "6AD2DcQTOzVw",
        "outputId": "acf8308d-f87f-4686-d44b-6f6999de9a4c"
      },
      "execution_count": 42,
      "outputs": [
        {
          "output_type": "stream",
          "name": "stdout",
          "text": [
            "Jello, World!\n"
          ]
        }
      ]
    },
    {
      "cell_type": "markdown",
      "source": [
        "Input and Type Casting"
      ],
      "metadata": {
        "id": "hzx2xtV4G2sO"
      }
    },
    {
      "cell_type": "code",
      "source": [
        "name = input(\"Enter your name: \")\n",
        "print(\"Hello, \" + name + \"!\")\n"
      ],
      "metadata": {
        "colab": {
          "base_uri": "https://localhost:8080/"
        },
        "id": "XlvxROoYG3Ja",
        "outputId": "168b2be6-bc7b-467f-e606-f5ca02a6f3c8"
      },
      "execution_count": null,
      "outputs": [
        {
          "output_type": "stream",
          "name": "stdout",
          "text": [
            "Enter your name: 2\n",
            "Hello, 2!\n"
          ]
        }
      ]
    },
    {
      "cell_type": "code",
      "source": [
        "age = input(\"Enter your age: \")  # Input is always a string\n",
        "age = int(age)  # Convert to integer\n",
        "print(\"Next year, you will be\", age + 1)\n",
        "print(type(age))\n"
      ],
      "metadata": {
        "colab": {
          "base_uri": "https://localhost:8080/"
        },
        "id": "bGbQOPSrG4N0",
        "outputId": "a7bc7cc9-5ece-4fee-e848-2f3e0f455f9f"
      },
      "execution_count": null,
      "outputs": [
        {
          "output_type": "stream",
          "name": "stdout",
          "text": [
            "Enter your age: 20\n",
            "Next year, you will be 21\n",
            "<class 'int'>\n"
          ]
        }
      ]
    },
    {
      "cell_type": "markdown",
      "source": [
        "Comments in Python"
      ],
      "metadata": {
        "id": "0AF0wzZLHX3h"
      }
    },
    {
      "cell_type": "code",
      "source": [
        "# This is a single-line comment\n",
        "'''\n",
        "This is a\n",
        "multi-line comment\n",
        "'''\n",
        "print(\"Python is fun!\")  # Printing a message\n"
      ],
      "metadata": {
        "id": "axhyWoluHYM3",
        "outputId": "1d15e49c-8803-4069-e633-694440e3a3b5",
        "colab": {
          "base_uri": "https://localhost:8080/"
        }
      },
      "execution_count": null,
      "outputs": [
        {
          "output_type": "stream",
          "name": "stdout",
          "text": [
            "Python is fun!\n"
          ]
        }
      ]
    },
    {
      "cell_type": "code",
      "source": [],
      "metadata": {
        "id": "nIQQKLURHZiY"
      },
      "execution_count": null,
      "outputs": []
    },
    {
      "cell_type": "markdown",
      "source": [
        "Task 1: Write a Python program to calculate the sum of two numbers entered by the user."
      ],
      "metadata": {
        "id": "PwteIr5M6ita"
      }
    },
    {
      "cell_type": "code",
      "source": [
        "num1 = float(input(\"Enter first number: \"))\n",
        "num2 = float(input(\"Enter second number: \"))\n",
        "sum_result = num1 + num2\n",
        "print(\"The sum is:\", sum_result)\n"
      ],
      "metadata": {
        "colab": {
          "base_uri": "https://localhost:8080/"
        },
        "id": "pkvGIfs26jWD",
        "outputId": "7e2919ba-6a94-4942-ecdd-fc014e4bbea5"
      },
      "execution_count": 10,
      "outputs": [
        {
          "output_type": "stream",
          "name": "stdout",
          "text": [
            "Enter first number: 5\n",
            "Enter second number: 6\n",
            "The sum is: 11.0\n"
          ]
        }
      ]
    },
    {
      "cell_type": "code",
      "source": [],
      "metadata": {
        "id": "-3c3KjJA6kaP"
      },
      "execution_count": null,
      "outputs": []
    },
    {
      "cell_type": "markdown",
      "source": [
        "Task 2: Create a program that checks if a number is even or odd."
      ],
      "metadata": {
        "id": "jB5uQo9Y6r9l"
      }
    },
    {
      "cell_type": "code",
      "source": [
        "num = int(input(\"Enter a number: \"))\n",
        "if num % 2 == 0:\n",
        "    print(num, \"is even\")\n",
        "else:\n",
        "    print(num, \"is odd\")\n"
      ],
      "metadata": {
        "colab": {
          "base_uri": "https://localhost:8080/"
        },
        "id": "2IEnrqgy6sPx",
        "outputId": "f9084201-ef65-4d17-fe36-f4c2d7c99c14"
      },
      "execution_count": 11,
      "outputs": [
        {
          "output_type": "stream",
          "name": "stdout",
          "text": [
            "Enter a number: 6\n",
            "6 is even\n"
          ]
        }
      ]
    },
    {
      "cell_type": "code",
      "source": [
        "name = input(\"enter your name \")\n",
        "print(\"your name is \", name)\n",
        "print(type(name))\n",
        "name = int(name)\n",
        "print(type(name))\n"
      ],
      "metadata": {
        "colab": {
          "base_uri": "https://localhost:8080/"
        },
        "id": "y4XS91Er6ttM",
        "outputId": "3a2677bd-e956-482b-f8f5-5819554600de"
      },
      "execution_count": 46,
      "outputs": [
        {
          "output_type": "stream",
          "name": "stdout",
          "text": [
            "enter your name 2\n",
            "your name is  2\n",
            "<class 'str'>\n",
            "<class 'int'>\n"
          ]
        }
      ]
    },
    {
      "cell_type": "code",
      "source": [],
      "metadata": {
        "id": "YPwup2FuRTGR"
      },
      "execution_count": null,
      "outputs": []
    }
  ]
}