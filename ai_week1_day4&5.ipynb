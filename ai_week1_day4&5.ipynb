{
  "cells": [
    {
      "cell_type": "markdown",
      "metadata": {
        "id": "view-in-github",
        "colab_type": "text"
      },
      "source": [
        "<a href=\"https://colab.research.google.com/github/ShahzadaFahimJan/AI_and_ML_NAVTCC_spring2025/blob/main/ai_week1_day4%265.ipynb\" target=\"_parent\"><img src=\"https://colab.research.google.com/assets/colab-badge.svg\" alt=\"Open In Colab\"/></a>"
      ]
    },
    {
      "cell_type": "code",
      "execution_count": null,
      "metadata": {
        "id": "BoEdmsAWf-s9"
      },
      "outputs": [],
      "source": []
    },
    {
      "cell_type": "markdown",
      "metadata": {
        "id": "bJbD-mCF11t0"
      },
      "source": []
    },
    {
      "cell_type": "markdown",
      "metadata": {
        "id": "OkixepVdgGQQ"
      },
      "source": [
        "Lists in Python\n",
        "List Items\n",
        "List items are ordered, changeable, and allow duplicate values.\n",
        "\n",
        "List items are indexed, the first item has index [0], the second item has index [1] etc."
      ]
    },
    {
      "cell_type": "code",
      "execution_count": null,
      "metadata": {
        "colab": {
          "base_uri": "https://localhost:8080/"
        },
        "id": "xSZ_plWxgNMd",
        "outputId": "98f4b89a-37a7-4dda-82b0-b73a912d03ff"
      },
      "outputs": [
        {
          "name": "stdout",
          "output_type": "stream",
          "text": [
            "['apple', 'banana', 'cherry']\n",
            "[1, 2, 3, 4, 5]\n",
            "['hello', 3.14, True]\n"
          ]
        }
      ],
      "source": [
        "# Creating a list\n",
        "fruits = [\"apple\", \"banana\", \"cherry\"]\n",
        "numbers = [1, 2, 3, 4, 5]\n",
        "mixed = [\"hello\", 3.14, True]\n",
        "\n",
        "print(fruits)\n",
        "print(numbers)\n",
        "print(mixed)"
      ]
    },
    {
      "cell_type": "code",
      "execution_count": null,
      "metadata": {
        "colab": {
          "base_uri": "https://localhost:8080/"
        },
        "id": "GBpqmxzvgX3c",
        "outputId": "af4ce123-648e-413f-dea0-c6e8ff854aee"
      },
      "outputs": [
        {
          "name": "stdout",
          "output_type": "stream",
          "text": [
            "apple\n",
            "cherry\n"
          ]
        }
      ],
      "source": [
        "fruits = [\"apple\", \"banana\", \"cherry\"]\n",
        "print(fruits[0])   # Output: apple\n",
        "print(fruits[-1])  # Output: cherry\n"
      ]
    },
    {
      "cell_type": "markdown",
      "metadata": {
        "id": "6Ga_z05agD7G"
      },
      "source": []
    },
    {
      "cell_type": "code",
      "execution_count": null,
      "metadata": {
        "colab": {
          "base_uri": "https://localhost:8080/"
        },
        "id": "WWrhgdyygcmx",
        "outputId": "0a5d423d-ab64-43c4-bec4-3ac6dffe1461"
      },
      "outputs": [
        {
          "name": "stdout",
          "output_type": "stream",
          "text": [
            "['apple', 'banana', 'cherry']\n",
            "['apple', 'mango', 'cherry']\n"
          ]
        }
      ],
      "source": [
        "fruits = [\"apple\", \"banana\", \"cherry\"]\n",
        "print(fruits)\n",
        "fruits[1] = \"mango\"\n",
        "print(fruits)\n"
      ]
    },
    {
      "cell_type": "code",
      "execution_count": null,
      "metadata": {
        "colab": {
          "base_uri": "https://localhost:8080/"
        },
        "id": "ZZoUsjFJgdB1",
        "outputId": "2ad29887-6fcb-41ab-f1ed-008c4e117fd6"
      },
      "outputs": [
        {
          "name": "stdout",
          "output_type": "stream",
          "text": [
            "[1, 2, 3, 4, 5]\n"
          ]
        }
      ],
      "source": [
        "numbers = [3, 1, 4, 2, 5]\n",
        "numbers.sort()\n",
        "print(numbers)\n"
      ]
    },
    {
      "cell_type": "code",
      "execution_count": null,
      "metadata": {
        "id": "Ec8fNNBAgp-T"
      },
      "outputs": [],
      "source": []
    },
    {
      "cell_type": "markdown",
      "metadata": {
        "id": "jPrpW5pLg5MW"
      },
      "source": [
        "List Comprehension"
      ]
    },
    {
      "cell_type": "code",
      "execution_count": null,
      "metadata": {
        "colab": {
          "base_uri": "https://localhost:8080/"
        },
        "id": "4fVPemvTg5qa",
        "outputId": "73a58877-a620-47e5-c0fa-b04b972906b9"
      },
      "outputs": [
        {
          "name": "stdout",
          "output_type": "stream",
          "text": [
            "[0, 1, 4, 9, 16]\n"
          ]
        }
      ],
      "source": [
        "squares = [x**2 for x in range(5)]\n",
        "print(squares)\n"
      ]
    },
    {
      "cell_type": "code",
      "execution_count": null,
      "metadata": {
        "colab": {
          "base_uri": "https://localhost:8080/"
        },
        "id": "3TYOta_19QaO",
        "outputId": "cace2389-2e8e-4013-86e9-3f7e6b2f71c5"
      },
      "outputs": [
        {
          "name": "stdout",
          "output_type": "stream",
          "text": [
            "3\n"
          ]
        }
      ],
      "source": [
        "thislist = [\"apple\", \"banana\", \"cherry\"]\n",
        "print(len(thislist))"
      ]
    },
    {
      "cell_type": "markdown",
      "metadata": {
        "id": "-8CWZYgX9WE9"
      },
      "source": [
        "List Items - Data Types\n",
        "List items can be of any data type:"
      ]
    },
    {
      "cell_type": "code",
      "execution_count": null,
      "metadata": {
        "colab": {
          "base_uri": "https://localhost:8080/"
        },
        "id": "nVNsBn-L9Wrg",
        "outputId": "96b917d0-a6ed-4230-f0d4-e4197af70b98"
      },
      "outputs": [
        {
          "name": "stdout",
          "output_type": "stream",
          "text": [
            "['apple', 'banana', 'cherry'] [1, 5, 7, 9, 3] [True, False, False]\n"
          ]
        }
      ],
      "source": [
        "list1 = [\"apple\", \"banana\", \"cherry\"]\n",
        "list2 = [1, 5, 7, 9, 3]\n",
        "list3 = [True, False, False]\n",
        "print(list1,list2,list3)"
      ]
    },
    {
      "cell_type": "code",
      "execution_count": null,
      "metadata": {
        "id": "0p7m6T0tg9w3"
      },
      "outputs": [],
      "source": []
    },
    {
      "cell_type": "markdown",
      "metadata": {
        "id": "uDUm9kFx9eGZ"
      },
      "source": [
        "A list can contain different data types:"
      ]
    },
    {
      "cell_type": "code",
      "execution_count": null,
      "metadata": {
        "colab": {
          "base_uri": "https://localhost:8080/"
        },
        "id": "U5Rai-zW9eoT",
        "outputId": "21863ebc-1b43-4058-906d-c63cf59b05b3"
      },
      "outputs": [
        {
          "name": "stdout",
          "output_type": "stream",
          "text": [
            "['abc', 34, True, 40, 'male']\n"
          ]
        }
      ],
      "source": [
        "list1 = [\"abc\", 34, True, 40, \"male\"]\n",
        "print(list1)"
      ]
    },
    {
      "cell_type": "code",
      "execution_count": null,
      "metadata": {
        "colab": {
          "base_uri": "https://localhost:8080/"
        },
        "id": "FYHod1pk9jeP",
        "outputId": "b1969a8a-c384-45f6-e9f8-818e18755260"
      },
      "outputs": [
        {
          "name": "stdout",
          "output_type": "stream",
          "text": [
            "<class 'list'>\n"
          ]
        }
      ],
      "source": [
        "mylist = [\"apple\", \"banana\", \"cherry\"]\n",
        "print(type(mylist))"
      ]
    },
    {
      "cell_type": "code",
      "execution_count": null,
      "metadata": {
        "id": "d-f-p85A9mvn"
      },
      "outputs": [],
      "source": []
    },
    {
      "cell_type": "markdown",
      "metadata": {
        "id": "RaP1MVPZ9pz6"
      },
      "source": [
        "The list() Constructor\n",
        "It is also possible to use the list() constructor when creating a new list."
      ]
    },
    {
      "cell_type": "code",
      "execution_count": null,
      "metadata": {
        "colab": {
          "base_uri": "https://localhost:8080/"
        },
        "id": "42IEBesE9qZK",
        "outputId": "d08465b6-2e61-4764-eb02-2221acb0de09"
      },
      "outputs": [
        {
          "name": "stdout",
          "output_type": "stream",
          "text": [
            "['apple', 'banana', 'cherry']\n"
          ]
        }
      ],
      "source": [
        "thislist = list((\"apple\", \"banana\", \"cherry\")) # note the double round-brackets\n",
        "print(thislist)"
      ]
    },
    {
      "cell_type": "markdown",
      "metadata": {
        "id": "PVP5-gkc9x9W"
      },
      "source": [
        "Access Items\n",
        "List items are indexed and you can access them by referring to the index number:"
      ]
    },
    {
      "cell_type": "code",
      "execution_count": null,
      "metadata": {
        "colab": {
          "base_uri": "https://localhost:8080/"
        },
        "id": "WOINiHn69yly",
        "outputId": "6742f511-844b-443e-aa4a-5d0730cfdbbd"
      },
      "outputs": [
        {
          "name": "stdout",
          "output_type": "stream",
          "text": [
            "banana\n"
          ]
        }
      ],
      "source": [
        "thislist = [\"apple\", \"banana\", \"cherry\"]\n",
        "print(thislist[1])"
      ]
    },
    {
      "cell_type": "markdown",
      "metadata": {
        "id": "wvWkGgep90FO"
      },
      "source": [
        "Range of Indexes\n",
        "You can specify a range of indexes by specifying where to start and where to end the range.\n",
        "\n",
        "When specifying a range, the return value will be a new list with the specified items."
      ]
    },
    {
      "cell_type": "code",
      "execution_count": null,
      "metadata": {
        "colab": {
          "base_uri": "https://localhost:8080/"
        },
        "id": "de4ZHmJL945R",
        "outputId": "eee419fb-9e30-4beb-e564-7a37cdc78666"
      },
      "outputs": [
        {
          "name": "stdout",
          "output_type": "stream",
          "text": [
            "['cherry', 'orange', 'kiwi']\n"
          ]
        }
      ],
      "source": [
        "thislist = [\"apple\", \"banana\", \"cherry\", \"orange\", \"kiwi\", \"melon\", \"mango\"]\n",
        "print(thislist[2:5])"
      ]
    },
    {
      "cell_type": "markdown",
      "metadata": {
        "id": "g7n6FEuP969S"
      },
      "source": []
    },
    {
      "cell_type": "code",
      "execution_count": null,
      "metadata": {
        "colab": {
          "base_uri": "https://localhost:8080/"
        },
        "id": "c1wWVK_m9-OY",
        "outputId": "80de0ec7-3dce-4618-fc0b-37555ffc5658"
      },
      "outputs": [
        {
          "name": "stdout",
          "output_type": "stream",
          "text": [
            "['apple', 'banana', 'cherry', 'orange']\n"
          ]
        }
      ],
      "source": [
        "thislist = [\"apple\", \"banana\", \"cherry\", \"orange\", \"kiwi\", \"melon\", \"mango\"]\n",
        "print(thislist[:4])"
      ]
    },
    {
      "cell_type": "code",
      "execution_count": null,
      "metadata": {
        "colab": {
          "base_uri": "https://localhost:8080/"
        },
        "id": "51mMVJ2E9-03",
        "outputId": "45bea62b-441a-4298-c0e8-f64e59354edd"
      },
      "outputs": [
        {
          "name": "stdout",
          "output_type": "stream",
          "text": [
            "['cherry', 'orange', 'kiwi', 'melon', 'mango']\n"
          ]
        }
      ],
      "source": [
        "thislist = [\"apple\", \"banana\", \"cherry\", \"orange\", \"kiwi\", \"melon\", \"mango\"]\n",
        "print(thislist[2:])"
      ]
    },
    {
      "cell_type": "code",
      "execution_count": null,
      "metadata": {
        "colab": {
          "base_uri": "https://localhost:8080/"
        },
        "id": "2fQ4Xjje-Bt9",
        "outputId": "c2059567-b7dd-4514-dfc7-6152e493ef38"
      },
      "outputs": [
        {
          "name": "stdout",
          "output_type": "stream",
          "text": [
            "['orange', 'kiwi', 'melon']\n"
          ]
        }
      ],
      "source": [
        "thislist = [\"apple\", \"banana\", \"cherry\", \"orange\", \"kiwi\", \"melon\", \"mango\"]\n",
        "print(thislist[-4:-1])"
      ]
    },
    {
      "cell_type": "code",
      "execution_count": null,
      "metadata": {
        "colab": {
          "base_uri": "https://localhost:8080/"
        },
        "id": "s1lvrtzE-FKz",
        "outputId": "00f31660-67ee-4675-c00d-99cc0fea61ee"
      },
      "outputs": [
        {
          "name": "stdout",
          "output_type": "stream",
          "text": [
            "Yes, 'apple' is in the fruits list\n"
          ]
        }
      ],
      "source": [
        "thislist = [\"apple\", \"banana\", \"cherry\"]\n",
        "if \"apple\" in thislist:\n",
        "  print(\"Yes, 'apple' is in the fruits list\")"
      ]
    },
    {
      "cell_type": "code",
      "execution_count": null,
      "metadata": {
        "id": "9Lvb3zGP-IQv"
      },
      "outputs": [],
      "source": []
    },
    {
      "cell_type": "markdown",
      "metadata": {
        "id": "ZvDjlEJP-L6R"
      },
      "source": [
        "Change Item Value\n",
        "To change the value of a specific item, refer to the index number:"
      ]
    },
    {
      "cell_type": "code",
      "execution_count": null,
      "metadata": {
        "colab": {
          "base_uri": "https://localhost:8080/"
        },
        "id": "JbX4P42v-Ma-",
        "outputId": "421abfc9-b21e-4793-81ba-7ace5ef49e9d"
      },
      "outputs": [
        {
          "name": "stdout",
          "output_type": "stream",
          "text": [
            "['apple', 'blackcurrant', 'cherry']\n"
          ]
        }
      ],
      "source": [
        "thislist = [\"apple\", \"banana\", \"cherry\"]\n",
        "thislist[1] = \"blackcurrant\"\n",
        "print(thislist)\n"
      ]
    },
    {
      "cell_type": "code",
      "execution_count": null,
      "metadata": {
        "id": "mwPJm9rs-PV8"
      },
      "outputs": [],
      "source": []
    },
    {
      "cell_type": "markdown",
      "metadata": {
        "id": "oto5GWo6-VGK"
      },
      "source": [
        "Change a Range of Item Values\n",
        "To change the value of items within a specific range, define a list with the new values, and refer to the range of index numbers where you want to insert the new values:"
      ]
    },
    {
      "cell_type": "code",
      "execution_count": null,
      "metadata": {
        "colab": {
          "base_uri": "https://localhost:8080/"
        },
        "id": "1-MBUCay-Vn-",
        "outputId": "e3764ee7-1499-487d-f60a-f5ab8c493a4f"
      },
      "outputs": [
        {
          "name": "stdout",
          "output_type": "stream",
          "text": [
            "['apple', 'blackcurrant', 'watermelon', 'orange', 'kiwi', 'mango']\n"
          ]
        }
      ],
      "source": [
        "thislist = [\"apple\", \"banana\", \"cherry\", \"orange\", \"kiwi\", \"mango\"]\n",
        "thislist[1:3] = [\"blackcurrant\", \"watermelon\"]\n",
        "print(thislist)"
      ]
    },
    {
      "cell_type": "code",
      "execution_count": null,
      "metadata": {
        "colab": {
          "base_uri": "https://localhost:8080/"
        },
        "id": "CKUakFi6-XJg",
        "outputId": "ba696857-c67b-4d97-ffb2-86375f325bcf"
      },
      "outputs": [
        {
          "name": "stdout",
          "output_type": "stream",
          "text": [
            "['apple', 'watermelon']\n"
          ]
        }
      ],
      "source": [
        "thislist = [\"apple\", \"banana\", \"cherry\"]\n",
        "thislist[1:3] = [\"watermelon\"]\n",
        "print(thislist)"
      ]
    },
    {
      "cell_type": "code",
      "execution_count": null,
      "metadata": {
        "id": "4WikCcLZ-frA"
      },
      "outputs": [],
      "source": []
    },
    {
      "cell_type": "markdown",
      "metadata": {
        "id": "LVEmUcgZ-qZT"
      },
      "source": [
        "Append Items\n",
        "To add an item to the end of the list, use the append() method:"
      ]
    },
    {
      "cell_type": "code",
      "execution_count": null,
      "metadata": {
        "colab": {
          "base_uri": "https://localhost:8080/"
        },
        "id": "LZP_II5G-rGE",
        "outputId": "918dca9e-b18f-4f0a-efd8-6eab107ccfdc"
      },
      "outputs": [
        {
          "name": "stdout",
          "output_type": "stream",
          "text": [
            "['apple', 'banana', 'cherry', 'orange']\n"
          ]
        }
      ],
      "source": [
        "thislist = [\"apple\", \"banana\", \"cherry\"]\n",
        "thislist.append(\"orange\")\n",
        "print(thislist)"
      ]
    },
    {
      "cell_type": "code",
      "execution_count": null,
      "metadata": {
        "id": "1Lc7IJVu-tli"
      },
      "outputs": [],
      "source": []
    },
    {
      "cell_type": "markdown",
      "metadata": {
        "id": "onIpWUU1-w2o"
      },
      "source": []
    },
    {
      "cell_type": "markdown",
      "metadata": {
        "id": "xRsXtYkm-w85"
      },
      "source": [
        "Insert Items\n",
        "To insert a list item at a specified index, use the insert() method.\n",
        "\n",
        "The insert() method inserts an item at the specified index:"
      ]
    },
    {
      "cell_type": "code",
      "execution_count": null,
      "metadata": {
        "colab": {
          "base_uri": "https://localhost:8080/"
        },
        "id": "6TSumWKK-xe8",
        "outputId": "4a5cee07-011c-4ca1-e484-92c36bc0e069"
      },
      "outputs": [
        {
          "name": "stdout",
          "output_type": "stream",
          "text": [
            "['apple', 'orange', 'banana', 'cherry']\n"
          ]
        }
      ],
      "source": [
        "thislist = [\"apple\", \"banana\", \"cherry\"]\n",
        "thislist.insert(1, \"orange\")\n",
        "print(thislist)"
      ]
    },
    {
      "cell_type": "code",
      "execution_count": null,
      "metadata": {
        "id": "Fmmvrd9P-zQc"
      },
      "outputs": [],
      "source": []
    },
    {
      "cell_type": "markdown",
      "metadata": {
        "id": "ZQYAyBAG-701"
      },
      "source": [
        "Remove Specified Item\n",
        "The remove() method removes the specified item."
      ]
    },
    {
      "cell_type": "code",
      "execution_count": null,
      "metadata": {
        "colab": {
          "base_uri": "https://localhost:8080/"
        },
        "id": "YZ98e5rJ-8dv",
        "outputId": "7087e429-d1cd-443e-bb8e-d289f05c47ae"
      },
      "outputs": [
        {
          "name": "stdout",
          "output_type": "stream",
          "text": [
            "['apple', 'cherry']\n"
          ]
        }
      ],
      "source": [
        "thislist = [\"apple\", \"banana\", \"cherry\"]\n",
        "thislist.remove(\"banana\")\n",
        "print(thislist)"
      ]
    },
    {
      "cell_type": "code",
      "execution_count": null,
      "metadata": {
        "id": "CJnLcdwg-9_A"
      },
      "outputs": [],
      "source": []
    },
    {
      "cell_type": "markdown",
      "metadata": {
        "id": "xUS13LfY_DE2"
      },
      "source": [
        "If there are more than one item with the specified value, the remove() method removes the first occurrence:"
      ]
    },
    {
      "cell_type": "code",
      "execution_count": null,
      "metadata": {
        "colab": {
          "base_uri": "https://localhost:8080/"
        },
        "id": "A3mTfVAR_Dpu",
        "outputId": "22fbe5f9-c051-4133-a237-68dc98416210"
      },
      "outputs": [
        {
          "name": "stdout",
          "output_type": "stream",
          "text": [
            "['apple', 'cherry', 'banana', 'kiwi']\n"
          ]
        }
      ],
      "source": [
        "thislist = [\"apple\", \"banana\", \"cherry\", \"banana\", \"kiwi\"]\n",
        "thislist.remove(\"banana\")\n",
        "print(thislist)"
      ]
    },
    {
      "cell_type": "markdown",
      "metadata": {
        "id": "vVlqeZn0_H_W"
      },
      "source": [
        "Remove Specified Index\n",
        "The pop() method removes the specified index."
      ]
    },
    {
      "cell_type": "code",
      "execution_count": null,
      "metadata": {
        "colab": {
          "base_uri": "https://localhost:8080/"
        },
        "id": "bhpnabk8_Ifd",
        "outputId": "1fb4975f-617f-4cd6-f1cd-fa6b7fc71dfe"
      },
      "outputs": [
        {
          "name": "stdout",
          "output_type": "stream",
          "text": [
            "['apple', 'cherry']\n"
          ]
        }
      ],
      "source": [
        "thislist = [\"apple\", \"banana\", \"cherry\"]\n",
        "thislist.pop(1)\n",
        "print(thislist)"
      ]
    },
    {
      "cell_type": "code",
      "execution_count": null,
      "metadata": {
        "id": "wrzf265h_J6a"
      },
      "outputs": [],
      "source": []
    },
    {
      "cell_type": "markdown",
      "metadata": {
        "id": "4YZ9AzDN_OeE"
      },
      "source": [
        "If you do not specify the index, the pop() method removes the last item."
      ]
    },
    {
      "cell_type": "code",
      "execution_count": null,
      "metadata": {
        "colab": {
          "base_uri": "https://localhost:8080/"
        },
        "id": "TuDRgMK8_PAn",
        "outputId": "2de6ae2e-ee54-4b7c-abba-ec31dc86ed2b"
      },
      "outputs": [
        {
          "name": "stdout",
          "output_type": "stream",
          "text": [
            "['apple', 'banana']\n"
          ]
        }
      ],
      "source": [
        "thislist = [\"apple\", \"banana\", \"cherry\"]\n",
        "thislist.pop()\n",
        "print(thislist)"
      ]
    },
    {
      "cell_type": "code",
      "execution_count": null,
      "metadata": {
        "id": "I_E3kt_m_QS9"
      },
      "outputs": [],
      "source": []
    },
    {
      "cell_type": "markdown",
      "metadata": {
        "id": "b_j-aJ_J_TQc"
      },
      "source": [
        "The del keyword also removes the specified index:"
      ]
    },
    {
      "cell_type": "code",
      "execution_count": null,
      "metadata": {
        "colab": {
          "base_uri": "https://localhost:8080/"
        },
        "id": "1WBl7Yh9_Tmh",
        "outputId": "ec2003aa-d401-4e17-a56f-36a04798b518"
      },
      "outputs": [
        {
          "name": "stdout",
          "output_type": "stream",
          "text": [
            "['banana', 'cherry']\n"
          ]
        }
      ],
      "source": [
        "thislist = [\"apple\", \"banana\", \"cherry\"]\n",
        "del thislist[0]\n",
        "print(thislist)"
      ]
    },
    {
      "cell_type": "code",
      "execution_count": null,
      "metadata": {
        "id": "QMKtUdNc_VL2"
      },
      "outputs": [],
      "source": []
    },
    {
      "cell_type": "markdown",
      "metadata": {
        "id": "wXqAHcDM_YIN"
      },
      "source": [
        "The del keyword can also delete the list completely"
      ]
    },
    {
      "cell_type": "code",
      "execution_count": null,
      "metadata": {
        "id": "SWGYC6jO_Z6j"
      },
      "outputs": [],
      "source": [
        "thislist = [\"apple\", \"banana\", \"cherry\"]\n",
        "del thislist"
      ]
    },
    {
      "cell_type": "markdown",
      "metadata": {
        "id": "Xhra2DId_d2O"
      },
      "source": [
        "Clear the List\n",
        "The clear() method empties the list.\n",
        "\n",
        "The list still remains, but it has no content."
      ]
    },
    {
      "cell_type": "code",
      "execution_count": null,
      "metadata": {
        "colab": {
          "base_uri": "https://localhost:8080/"
        },
        "id": "yZEwfY1P_ePz",
        "outputId": "16dd1f11-c53d-46f0-a0da-1ec3f3f60177"
      },
      "outputs": [
        {
          "name": "stdout",
          "output_type": "stream",
          "text": [
            "[]\n"
          ]
        }
      ],
      "source": [
        "thislist = [\"apple\", \"banana\", \"cherry\"]\n",
        "thislist.clear()\n",
        "print(thislist)"
      ]
    },
    {
      "cell_type": "markdown",
      "metadata": {
        "id": "wf7GD9L6Acap"
      },
      "source": [
        "Task 1:\n",
        " Find the Second Largest Number in a List\n",
        "Write a Python program to find the second largest number in a given list."
      ]
    },
    {
      "cell_type": "code",
      "execution_count": null,
      "metadata": {
        "colab": {
          "base_uri": "https://localhost:8080/"
        },
        "id": "Ylg7FTpOAj0P",
        "outputId": "d9e2a4dd-d2f5-46f0-9a69-d2d5365598cd"
      },
      "outputs": [
        {
          "name": "stdout",
          "output_type": "stream",
          "text": [
            "Second Largest Number: 45\n"
          ]
        }
      ],
      "source": [
        "# Given list\n",
        "numbers = [10, 25, 30, 50, 45, 30, 10]\n",
        "\n",
        "\n",
        "unique_numbers = sorted(set(numbers), reverse=True)\n",
        "\n",
        "\n",
        "if len(unique_numbers) > 1:\n",
        "    second_largest = unique_numbers[1]\n",
        "    print(\"Second Largest Number:\", second_largest)\n",
        "else:\n",
        "    print(\"No second largest number found.\")\n"
      ]
    },
    {
      "cell_type": "markdown",
      "metadata": {
        "id": "LmbJzve8hJcX"
      },
      "source": [
        "Tuples in Python\n",
        "Tuple\n",
        "Tuples are used to store multiple items in a single variable.\n",
        "\n",
        "Tuple is one of 4 built-in data types in Python used to store collections of data, the other 3 are List, Set, and Dictionary, all with different qualities and usage.\n",
        "\n",
        "A tuple is a collection which is ordered and unchangeable.\n",
        "\n",
        "Tuples are written with round brackets.\n",
        "Ordered\n",
        "When we say that tuples are ordered, it means that the items have a defined order, and that order will not change.\n",
        "Unchangeable\n",
        "Tuples are unchangeable, meaning that we cannot change, add or remove items after the tuple has been created."
      ]
    },
    {
      "cell_type": "code",
      "execution_count": null,
      "metadata": {
        "id": "dtZ6Y7zr9i2p"
      },
      "outputs": [],
      "source": []
    },
    {
      "cell_type": "code",
      "execution_count": null,
      "metadata": {
        "id": "mAwMC5c_hJ24"
      },
      "outputs": [],
      "source": [
        "fruits = (\"apple\", \"banana\", \"cherry\")\n",
        "numbers = (1, 2, 3, 4, 5)\n"
      ]
    },
    {
      "cell_type": "code",
      "execution_count": null,
      "metadata": {
        "colab": {
          "base_uri": "https://localhost:8080/"
        },
        "id": "k7hn2r3MhLW_",
        "outputId": "0fc6532c-60f4-4e2f-9de9-6035d255f004"
      },
      "outputs": [
        {
          "name": "stdout",
          "output_type": "stream",
          "text": [
            "banana\n",
            "cherry\n",
            "5\n"
          ]
        }
      ],
      "source": [
        "print(fruits[1])\n",
        "print(fruits[-1])\n",
        "print(numbers[-1])\n"
      ]
    },
    {
      "cell_type": "markdown",
      "metadata": {
        "id": "cwb6VVt720XB"
      },
      "source": [
        "Allow Duplicates\n",
        "Since tuples are indexed, they can have items with the same value:"
      ]
    },
    {
      "cell_type": "code",
      "execution_count": null,
      "metadata": {
        "colab": {
          "base_uri": "https://localhost:8080/"
        },
        "id": "yRD72SgW21Pe",
        "outputId": "7b56d979-cde9-46d1-a6cb-6e7363a9ee0f"
      },
      "outputs": [
        {
          "name": "stdout",
          "output_type": "stream",
          "text": [
            "('apple', 'banana', 'cherry', 'apple', 'cherry')\n"
          ]
        }
      ],
      "source": [
        "thistuple = (\"apple\", \"banana\", \"cherry\", \"apple\", \"cherry\")\n",
        "print(thistuple)"
      ]
    },
    {
      "cell_type": "code",
      "execution_count": null,
      "metadata": {
        "id": "jhbHrCjthNz_"
      },
      "outputs": [],
      "source": [
        "fruits[1] = \"mango\"  # Tuples cannot be changed\n"
      ]
    },
    {
      "cell_type": "code",
      "execution_count": null,
      "metadata": {
        "id": "YIGv-pNNhQsH"
      },
      "outputs": [],
      "source": []
    },
    {
      "cell_type": "markdown",
      "metadata": {
        "id": "QDcacfYh3B-U"
      },
      "source": [
        "Create Tuple With One Item\n",
        "To create a tuple with only one item, you have to add a comma after the item, otherwise Python will not recognize it as a tuple."
      ]
    },
    {
      "cell_type": "code",
      "execution_count": null,
      "metadata": {
        "colab": {
          "base_uri": "https://localhost:8080/"
        },
        "id": "rqSq8c133FNr",
        "outputId": "ac2cdb00-c87b-4358-83f5-26ea2481c553"
      },
      "outputs": [
        {
          "name": "stdout",
          "output_type": "stream",
          "text": [
            "<class 'tuple'>\n",
            "<class 'str'>\n"
          ]
        }
      ],
      "source": [
        "thistuple = (\"apple\",)\n",
        "print(type(thistuple))\n",
        "\n",
        "\n",
        "thistuple = (\"apple\")\n",
        "print(type(thistuple))"
      ]
    },
    {
      "cell_type": "markdown",
      "metadata": {
        "id": "2XMCcNd-3NMp"
      },
      "source": [
        "Tuple Items - Data Types\n",
        "Tuple items can be of any data type:"
      ]
    },
    {
      "cell_type": "code",
      "execution_count": null,
      "metadata": {
        "colab": {
          "base_uri": "https://localhost:8080/"
        },
        "id": "O_g0Yp5d3OVt",
        "outputId": "6fdff983-7ec0-48d2-fe8c-8bf8a186c06d"
      },
      "outputs": [
        {
          "name": "stdout",
          "output_type": "stream",
          "text": [
            "('apple', 'banana', 'cherry') (1, 5, 7, 9, 3) (True, False, False)\n",
            "('abc', 34, True, 40, 'male')\n"
          ]
        }
      ],
      "source": [
        "tuple1 = (\"apple\", \"banana\", \"cherry\")\n",
        "tuple2 = (1, 5, 7, 9, 3)\n",
        "tuple3 = (True, False, False)\n",
        "print(tuple1,tuple2,tuple3)\n",
        "tuple4 = (\"abc\", 34, True, 40, \"male\")\n",
        "print(tuple4)"
      ]
    },
    {
      "cell_type": "markdown",
      "metadata": {
        "id": "jwR0FKNS3iI1"
      },
      "source": [
        "The tuple() Constructor\n",
        "It is also possible to use the tuple() constructor to make a tuple."
      ]
    },
    {
      "cell_type": "code",
      "execution_count": null,
      "metadata": {
        "colab": {
          "base_uri": "https://localhost:8080/"
        },
        "id": "Csy0rG_D3lnK",
        "outputId": "9af10187-31da-4ae5-a933-227adfd314e0"
      },
      "outputs": [
        {
          "name": "stdout",
          "output_type": "stream",
          "text": [
            "('apple', 'banana', 'cherry')\n"
          ]
        }
      ],
      "source": [
        "thistuple = tuple((\"apple\", \"banana\", \"cherry\")) # note the double round-brackets\n",
        "print(thistuple)"
      ]
    },
    {
      "cell_type": "markdown",
      "metadata": {
        "id": "tXqfAkLE3vgX"
      },
      "source": [
        "Access Tuple Items\n",
        "You can access tuple items by referring to the index number, inside square brackets:"
      ]
    },
    {
      "cell_type": "code",
      "execution_count": null,
      "metadata": {
        "colab": {
          "base_uri": "https://localhost:8080/"
        },
        "id": "mXpU8njB3wJ5",
        "outputId": "88cb346f-22c5-4e43-e009-f0021671fbac"
      },
      "outputs": [
        {
          "name": "stdout",
          "output_type": "stream",
          "text": [
            "banana\n"
          ]
        }
      ],
      "source": [
        "thistuple = (\"apple\", \"banana\", \"cherry\")\n",
        "print(thistuple[1])"
      ]
    },
    {
      "cell_type": "markdown",
      "metadata": {
        "id": "7tq_Ur_J3x6K"
      },
      "source": [
        "Negative Indexing\n",
        "Negative indexing means start from the end.\n",
        "\n",
        "-1 refers to the last item, -2 refers to the second last item etc."
      ]
    },
    {
      "cell_type": "code",
      "execution_count": null,
      "metadata": {
        "colab": {
          "base_uri": "https://localhost:8080/"
        },
        "id": "bVAJI8cg33gT",
        "outputId": "044066b2-8158-4701-e8ac-9981a570672c"
      },
      "outputs": [
        {
          "name": "stdout",
          "output_type": "stream",
          "text": [
            "cherry\n"
          ]
        }
      ],
      "source": [
        "thistuple = (\"apple\", \"banana\", \"cherry\")\n",
        "print(thistuple[-1])"
      ]
    },
    {
      "cell_type": "markdown",
      "metadata": {
        "id": "u84r_Cd8359k"
      },
      "source": [
        "Range of Indexes\n",
        "You can specify a range of indexes by specifying where to start and where to end the range.\n",
        "\n",
        "When specifying a range, the return value will be a new tuple with the specified items."
      ]
    },
    {
      "cell_type": "code",
      "execution_count": null,
      "metadata": {
        "colab": {
          "base_uri": "https://localhost:8080/"
        },
        "id": "3nUC2qki3_qU",
        "outputId": "7c813aca-53c9-41db-bff9-62eb38d8a49b"
      },
      "outputs": [
        {
          "name": "stdout",
          "output_type": "stream",
          "text": [
            "('cherry', 'orange', 'kiwi')\n"
          ]
        }
      ],
      "source": [
        "thistuple = (\"apple\", \"banana\", \"cherry\", \"orange\", \"kiwi\", \"melon\", \"mango\")\n",
        "print(thistuple[2:5])"
      ]
    },
    {
      "cell_type": "code",
      "execution_count": null,
      "metadata": {
        "colab": {
          "base_uri": "https://localhost:8080/"
        },
        "id": "spYvtGVV4FyJ",
        "outputId": "62a16900-038c-473e-863d-3aedfc38e834"
      },
      "outputs": [
        {
          "name": "stdout",
          "output_type": "stream",
          "text": [
            "('apple', 'banana', 'cherry', 'orange')\n"
          ]
        }
      ],
      "source": [
        "thistuple = (\"apple\", \"banana\", \"cherry\", \"orange\", \"kiwi\", \"melon\", \"mango\")\n",
        "print(thistuple[:4])"
      ]
    },
    {
      "cell_type": "markdown",
      "metadata": {
        "id": "hu_N2xEn4IQr"
      },
      "source": []
    },
    {
      "cell_type": "code",
      "execution_count": null,
      "metadata": {
        "colab": {
          "base_uri": "https://localhost:8080/"
        },
        "id": "SNEcH8wA4IdS",
        "outputId": "38790ee1-b994-465c-bd76-ece65abf65b8"
      },
      "outputs": [
        {
          "name": "stdout",
          "output_type": "stream",
          "text": [
            "('cherry', 'orange', 'kiwi', 'melon', 'mango')\n"
          ]
        }
      ],
      "source": [
        "thistuple = (\"apple\", \"banana\", \"cherry\", \"orange\", \"kiwi\", \"melon\", \"mango\")\n",
        "print(thistuple[2:])"
      ]
    },
    {
      "cell_type": "code",
      "execution_count": null,
      "metadata": {
        "colab": {
          "base_uri": "https://localhost:8080/"
        },
        "id": "p6ZpOcOk4Mun",
        "outputId": "a95bef39-8aab-4659-9e97-8aa7d2336c6d"
      },
      "outputs": [
        {
          "name": "stdout",
          "output_type": "stream",
          "text": [
            "('orange', 'kiwi', 'melon')\n"
          ]
        }
      ],
      "source": [
        "thistuple = (\"apple\", \"banana\", \"cherry\", \"orange\", \"kiwi\", \"melon\", \"mango\")\n",
        "print(thistuple[-4:-1])"
      ]
    },
    {
      "cell_type": "code",
      "execution_count": null,
      "metadata": {
        "id": "BO73eaWV4Zgv"
      },
      "outputs": [],
      "source": []
    },
    {
      "cell_type": "markdown",
      "metadata": {
        "id": "xGjXoCgP4a_-"
      },
      "source": [
        "Check if Item Exists\n",
        "To determine if a specified item is present in a tuple use the in keyword:"
      ]
    },
    {
      "cell_type": "code",
      "execution_count": null,
      "metadata": {
        "colab": {
          "base_uri": "https://localhost:8080/"
        },
        "id": "-pPmO0sc4bmo",
        "outputId": "6dd5cce9-96e9-4229-bf2e-c9d57b7c99ab"
      },
      "outputs": [
        {
          "name": "stdout",
          "output_type": "stream",
          "text": [
            "Yes, 'apple' is in the fruits tuple\n"
          ]
        }
      ],
      "source": [
        "thistuple = (\"apple\", \"banana\", \"cherry\")\n",
        "if \"apple\" in thistuple:\n",
        "  print(\"Yes, 'apple' is in the fruits tuple\")"
      ]
    },
    {
      "cell_type": "markdown",
      "metadata": {
        "id": "_wSyIAjk5C-T"
      },
      "source": [
        "Change Tuple Values\n",
        "Once a tuple is created, you cannot change its values. Tuples are unchangeable, or immutable as it also is called.\n",
        "\n",
        "But there is a workaround. You can convert the tuple into a list, change the list, and convert the list back into a tuple."
      ]
    },
    {
      "cell_type": "code",
      "execution_count": null,
      "metadata": {
        "colab": {
          "base_uri": "https://localhost:8080/"
        },
        "id": "GIvVcuRT5EM6",
        "outputId": "1e482d72-8259-4f93-e573-c1c0a1b60476"
      },
      "outputs": [
        {
          "name": "stdout",
          "output_type": "stream",
          "text": [
            "('apple', 'kiwi', 'cherry')\n"
          ]
        }
      ],
      "source": [
        "x = (\"apple\", \"banana\", \"cherry\")\n",
        "y = list(x)\n",
        "y[1] = \"kiwi\"\n",
        "x = tuple(y)\n",
        "\n",
        "print(x)"
      ]
    },
    {
      "cell_type": "markdown",
      "metadata": {
        "id": "5THcH30Q5Syh"
      },
      "source": [
        "Add Items\n",
        "Since tuples are immutable, they do not have a built-in append() method, but there are other ways to add items to a tuple.\n",
        "\n",
        "1. Convert into a list: Just like the workaround for changing a tuple, you can convert it into a list, add your item(s), and convert it back into a tuple."
      ]
    },
    {
      "cell_type": "code",
      "execution_count": null,
      "metadata": {
        "id": "5Ga24yAi5Td8"
      },
      "outputs": [],
      "source": [
        "thistuple = (\"apple\", \"banana\", \"cherry\")\n",
        "y = list(thistuple)\n",
        "y.append(\"orange\")\n",
        "thistuple = tuple(y)"
      ]
    },
    {
      "cell_type": "markdown",
      "metadata": {
        "id": "yKZyxe6X5VAl"
      },
      "source": [
        " Add tuple to a tuple. You are allowed to add tuples to tuples, so if you want to add one item, (or many), create a new tuple with the item(s), and add it to the existing tuple:"
      ]
    },
    {
      "cell_type": "code",
      "execution_count": null,
      "metadata": {
        "colab": {
          "background_save": true,
          "base_uri": "https://localhost:8080/"
        },
        "id": "EQXmjoeW5XTP",
        "outputId": "8f30490d-66ab-4eea-c9dc-1bd3f27cf162"
      },
      "outputs": [
        {
          "name": "stdout",
          "output_type": "stream",
          "text": [
            "('apple', 'banana', 'cherry', ('banana',), 'orange')\n"
          ]
        }
      ],
      "source": [
        "thistuple = (\"apple\", \"banana\", \"cherry\",(\"banana\"))\n",
        "y = (\"orange\",)\n",
        "thistuple += y\n",
        "\n",
        "print(thistuple)"
      ]
    },
    {
      "cell_type": "code",
      "execution_count": null,
      "metadata": {
        "colab": {
          "base_uri": "https://localhost:8080/",
          "height": 176
        },
        "id": "9bDEyq3R5hJc",
        "outputId": "fab27355-230c-4aee-a1d1-520880195f68"
      },
      "outputs": [
        {
          "ename": "NameError",
          "evalue": "name 'thistuple' is not defined",
          "output_type": "error",
          "traceback": [
            "\u001b[0;31m---------------------------------------------------------------------------\u001b[0m",
            "\u001b[0;31mNameError\u001b[0m                                 Traceback (most recent call last)",
            "\u001b[0;32m<ipython-input-23-8a57ed92fc5d>\u001b[0m in \u001b[0;36m<cell line: 0>\u001b[0;34m()\u001b[0m\n\u001b[1;32m      1\u001b[0m \u001b[0mthistuple\u001b[0m \u001b[0;34m=\u001b[0m \u001b[0;34m(\u001b[0m\u001b[0;34m\"apple\"\u001b[0m\u001b[0;34m,\u001b[0m \u001b[0;34m\"banana\"\u001b[0m\u001b[0;34m,\u001b[0m \u001b[0;34m\"cherry\"\u001b[0m\u001b[0;34m)\u001b[0m\u001b[0;34m\u001b[0m\u001b[0;34m\u001b[0m\u001b[0m\n\u001b[1;32m      2\u001b[0m \u001b[0;32mdel\u001b[0m \u001b[0mthistuple\u001b[0m\u001b[0;34m\u001b[0m\u001b[0;34m\u001b[0m\u001b[0m\n\u001b[0;32m----> 3\u001b[0;31m \u001b[0mprint\u001b[0m\u001b[0;34m(\u001b[0m\u001b[0mthistuple\u001b[0m\u001b[0;34m)\u001b[0m \u001b[0;31m#this will raise an error because the tuple no longer exists\u001b[0m\u001b[0;34m\u001b[0m\u001b[0;34m\u001b[0m\u001b[0m\n\u001b[0m",
            "\u001b[0;31mNameError\u001b[0m: name 'thistuple' is not defined"
          ]
        }
      ],
      "source": [
        "thistuple = (\"apple\", \"banana\", \"cherry\")\n",
        "del thistuple\n",
        "print(thistuple) #this will raise an error because the tuple no longer exists"
      ]
    },
    {
      "cell_type": "markdown",
      "metadata": {
        "id": "gvUp04lf5r-0"
      },
      "source": [
        "Unpacking a Tuple\n",
        "When we create a tuple, we normally assign values to it. This is called \"packing\" a tuple:"
      ]
    },
    {
      "cell_type": "code",
      "execution_count": null,
      "metadata": {
        "id": "oP5CYfqj5s3D"
      },
      "outputs": [],
      "source": [
        "fruits = (\"apple\", \"banana\", \"cherry\")"
      ]
    },
    {
      "cell_type": "markdown",
      "metadata": {
        "id": "sKU7uZQJ5yHn"
      },
      "source": [
        "But, in Python, we are also allowed to extract the values back into variables. This is called \"unpacking\":"
      ]
    },
    {
      "cell_type": "code",
      "execution_count": null,
      "metadata": {
        "colab": {
          "base_uri": "https://localhost:8080/"
        },
        "id": "d3CjT6_85yuQ",
        "outputId": "9cc8ecd2-f48b-4fe1-d590-f80bb82bf602"
      },
      "outputs": [
        {
          "name": "stdout",
          "output_type": "stream",
          "text": [
            "apple\n",
            "banana\n",
            "cherry\n"
          ]
        }
      ],
      "source": [
        "fruits = (\"apple\", \"banana\", \"cherry\")\n",
        "\n",
        "(green, yellow, red) = fruits\n",
        "\n",
        "print(green)\n",
        "print(yellow)\n",
        "print(red)"
      ]
    },
    {
      "cell_type": "markdown",
      "metadata": {
        "id": "fWeZAz295_bn"
      },
      "source": [
        "Using Asterisk*\n",
        "If the number of variables is less than the number of values, you can add an * to the variable name and the values will be assigned to the variable as a list:"
      ]
    },
    {
      "cell_type": "code",
      "execution_count": null,
      "metadata": {
        "colab": {
          "base_uri": "https://localhost:8080/"
        },
        "id": "Wk1qm-tA5_4A",
        "outputId": "58da2d29-a198-4c5c-aabb-50c8314d91c4"
      },
      "outputs": [
        {
          "name": "stdout",
          "output_type": "stream",
          "text": [
            "apple\n",
            "banana\n",
            "['cherry', 'strawberry', 'raspberry']\n"
          ]
        }
      ],
      "source": [
        "fruits = (\"apple\", \"banana\", \"cherry\", \"strawberry\", \"raspberry\")\n",
        "\n",
        "(green, yellow, *red) = fruits\n",
        "\n",
        "print(green)\n",
        "print(yellow)\n",
        "print(red)"
      ]
    },
    {
      "cell_type": "markdown",
      "metadata": {
        "id": "Rv_Z-7Pb6Bfe"
      },
      "source": [
        "If the asterisk is added to another variable name than the last, Python will assign values to the variable until the number of values left matches the number of variables left."
      ]
    },
    {
      "cell_type": "code",
      "execution_count": null,
      "metadata": {
        "colab": {
          "base_uri": "https://localhost:8080/"
        },
        "id": "zK58SVBa6C8v",
        "outputId": "3d9a9453-11c7-4004-a497-443e1b924191"
      },
      "outputs": [
        {
          "name": "stdout",
          "output_type": "stream",
          "text": [
            "apple\n",
            "['mango', 'papaya', 'pineapple']\n",
            "cherry\n"
          ]
        }
      ],
      "source": [
        "fruits = (\"apple\", \"mango\", \"papaya\", \"pineapple\", \"cherry\")\n",
        "\n",
        "(green, *tropic, red) = fruits\n",
        "\n",
        "print(green)\n",
        "print(tropic)\n",
        "print(red)"
      ]
    },
    {
      "cell_type": "markdown",
      "metadata": {
        "id": "MoB9m3aM6gQQ"
      },
      "source": [
        "Join Two Tuples\n",
        "To join two or more tuples you can use the + operator:"
      ]
    },
    {
      "cell_type": "code",
      "execution_count": null,
      "metadata": {
        "colab": {
          "base_uri": "https://localhost:8080/"
        },
        "id": "AP344VUU6j2t",
        "outputId": "f31f9f69-f29f-4443-f6a4-69476950d51f"
      },
      "outputs": [
        {
          "name": "stdout",
          "output_type": "stream",
          "text": [
            "('a', 'b', 'c', 1, 2, 3)\n"
          ]
        }
      ],
      "source": [
        "tuple1 = (\"a\", \"b\" , \"c\")\n",
        "tuple2 = (1, 2, 3)\n",
        "\n",
        "tuple3 = tuple1 + tuple2\n",
        "print(tuple3)"
      ]
    },
    {
      "cell_type": "markdown",
      "metadata": {
        "id": "MkealFyL6kgP"
      },
      "source": [
        "Multiply Tuples\n",
        "If you want to multiply the content of a tuple a given number of times, you can use the * operator:"
      ]
    },
    {
      "cell_type": "code",
      "execution_count": null,
      "metadata": {
        "colab": {
          "base_uri": "https://localhost:8080/"
        },
        "id": "RKRV4MvO6oqr",
        "outputId": "51609552-690a-4292-ab91-875ef6d078a7"
      },
      "outputs": [
        {
          "name": "stdout",
          "output_type": "stream",
          "text": [
            "('apple', 'banana', 'cherry', 'apple', 'banana', 'cherry')\n"
          ]
        }
      ],
      "source": [
        "fruits = (\"apple\", \"banana\", \"cherry\")\n",
        "mytuple = fruits * 2\n",
        "\n",
        "print(mytuple)"
      ]
    },
    {
      "cell_type": "markdown",
      "metadata": {
        "id": "kQNY4rOI7GTO"
      },
      "source": [
        "Task 1:\n",
        "Create a tuple with at least five different elements (integers, strings, or mixed). Access and print the first and last elements.\n",
        "Task 2:\n",
        "Given a tuple (1, 2, 3, 4, 5, 6, 7, 8, 9), extract a slice containing only even numbers.\n",
        "Task 3:\n",
        "Concatenate two tuples and repeat the resulting tuple twice.\n",
        "Task 4:\n",
        "Write a program to check if an element exists in a given tuple."
      ]
    },
    {
      "cell_type": "code",
      "execution_count": null,
      "metadata": {
        "colab": {
          "base_uri": "https://localhost:8080/"
        },
        "id": "ITisc6_37Tz9",
        "outputId": "8f41c574-61c6-41c5-e491-8d6cd5e9a3af"
      },
      "outputs": [
        {
          "name": "stdout",
          "output_type": "stream",
          "text": [
            "First element: 10\n",
            "Last element: Embedded\n"
          ]
        }
      ],
      "source": [
        "# Creating a tuple\n",
        "my_tuple = (10, \"Python\", 3.14, True, \"Embedded\")\n",
        "\n",
        "# Accessing elements\n",
        "first_element = my_tuple[0]\n",
        "last_element = my_tuple[-1]\n",
        "\n",
        "print(\"First element:\", first_element)\n",
        "print(\"Last element:\", last_element)\n"
      ]
    },
    {
      "cell_type": "code",
      "execution_count": null,
      "metadata": {
        "colab": {
          "base_uri": "https://localhost:8080/"
        },
        "id": "tp_Ovssm7UyX",
        "outputId": "43150d39-c941-45f5-b6e5-ccc9881ef832"
      },
      "outputs": [
        {
          "name": "stdout",
          "output_type": "stream",
          "text": [
            "Even numbers: (2, 4, 6, 8)\n"
          ]
        }
      ],
      "source": [
        "# Given tuple\n",
        "numbers = (1, 2, 3, 4, 5, 6, 7, 8, 9)\n",
        "\n",
        "# Extract even numbers using slicing and list comprehension\n",
        "even_numbers = tuple(num for num in numbers if num % 2 == 0)\n",
        "\n",
        "print(\"Even numbers:\", even_numbers)\n"
      ]
    },
    {
      "cell_type": "code",
      "execution_count": null,
      "metadata": {
        "colab": {
          "base_uri": "https://localhost:8080/"
        },
        "id": "opcxy8Y87Wuj",
        "outputId": "3c5cc0b0-607b-4a4b-dc53-0f7017de60ba"
      },
      "outputs": [
        {
          "name": "stdout",
          "output_type": "stream",
          "text": [
            "Concatenated Tuple: (1, 2, 3, 'A', 'B', 'C')\n",
            "Repeated Tuple: (1, 2, 3, 'A', 'B', 'C', 1, 2, 3, 'A', 'B', 'C')\n"
          ]
        }
      ],
      "source": [
        "tuple1 = (1, 2, 3)\n",
        "tuple2 = (\"A\", \"B\", \"C\")\n",
        "\n",
        "# Concatenation\n",
        "concatenated_tuple = tuple1 + tuple2\n",
        "\n",
        "# Repeating the tuple twice\n",
        "repeated_tuple = concatenated_tuple * 2\n",
        "\n",
        "print(\"Concatenated Tuple:\", concatenated_tuple)\n",
        "print(\"Repeated Tuple:\", repeated_tuple)\n"
      ]
    },
    {
      "cell_type": "code",
      "execution_count": null,
      "metadata": {
        "colab": {
          "base_uri": "https://localhost:8080/"
        },
        "id": "nqzjPh3x7YcT",
        "outputId": "e58e288e-c1fa-45b9-99fc-5966b1fa5419"
      },
      "outputs": [
        {
          "name": "stdout",
          "output_type": "stream",
          "text": [
            "banana is present in the tuple.\n"
          ]
        }
      ],
      "source": [
        "my_tuple = (\"apple\", \"banana\", \"cherry\", \"orange\")\n",
        "\n",
        "# Element to check\n",
        "element = \"banana\"\n",
        "\n",
        "# Check existence\n",
        "if element in my_tuple:\n",
        "    print(f\"{element} is present in the tuple.\")\n",
        "else:\n",
        "    print(f\"{element} is not in the tuple.\")\n"
      ]
    },
    {
      "cell_type": "markdown",
      "metadata": {
        "id": "7lAoy1zohf6D"
      },
      "source": [
        " Dictionaries in Python\n",
        "\n",
        "Dictionaries are used to store data values in key:value pairs.\n",
        "\n",
        "A dictionary is a collection which is ordered*, changeable and do not allow duplicates."
      ]
    },
    {
      "cell_type": "code",
      "execution_count": null,
      "metadata": {
        "colab": {
          "base_uri": "https://localhost:8080/"
        },
        "id": "834uOPszhgWz",
        "outputId": "fe429acc-bd8d-4c61-fb06-001506847087"
      },
      "outputs": [
        {
          "data": {
            "text/plain": [
              "{'name': 'Alice', 'age': 22, 'grade': 'A'}"
            ]
          },
          "execution_count": 66,
          "metadata": {},
          "output_type": "execute_result"
        }
      ],
      "source": [
        "student = {\"name\": \"Alice\", \"age\": 22, \"grade\": \"A\"}\n",
        "student\n"
      ]
    },
    {
      "cell_type": "code",
      "execution_count": null,
      "metadata": {
        "colab": {
          "base_uri": "https://localhost:8080/"
        },
        "id": "RGReF9LmhiFJ",
        "outputId": "7a83bc6a-4ba2-4fec-a18a-d4547d4ea6ac"
      },
      "outputs": [
        {
          "name": "stdout",
          "output_type": "stream",
          "text": [
            "Alice\n",
            "22\n"
          ]
        }
      ],
      "source": [
        "print(student[\"name\"])\n",
        "print(student.get(\"age\"))\n"
      ]
    },
    {
      "cell_type": "code",
      "execution_count": null,
      "metadata": {
        "id": "Bt2uNZ6ZhoHn"
      },
      "outputs": [],
      "source": [
        "student[\"age\"] = 23\n",
        "student[\"city\"] = \"New York\"\n"
      ]
    },
    {
      "cell_type": "markdown",
      "metadata": {
        "id": "Nbwc5-T-BNOC"
      },
      "source": [
        "Duplicates Not Allowed\n",
        "Dictionaries cannot have two items with the same key:"
      ]
    },
    {
      "cell_type": "code",
      "execution_count": null,
      "metadata": {
        "colab": {
          "base_uri": "https://localhost:8080/"
        },
        "id": "zWC_VMNtBNpg",
        "outputId": "b8adf3e9-05ce-46d8-dcb7-c40b0d0c9ced"
      },
      "outputs": [
        {
          "name": "stdout",
          "output_type": "stream",
          "text": [
            "{'brand': 'Ford', 'model': 'Mustang', 'year': 2020}\n"
          ]
        }
      ],
      "source": [
        "thisdict = {\n",
        "  \"brand\": \"Ford\",\n",
        "  \"model\": \"Mustang\",\n",
        "  \"year\": 1964,\n",
        "  \"year\": 2020\n",
        "}\n",
        "print(thisdict)"
      ]
    },
    {
      "cell_type": "code",
      "execution_count": null,
      "metadata": {
        "colab": {
          "base_uri": "https://localhost:8080/"
        },
        "id": "pw36eyJOhr4h",
        "outputId": "d8e880dd-f66e-446e-8a5c-05baeafab851"
      },
      "outputs": [
        {
          "name": "stdout",
          "output_type": "stream",
          "text": [
            "3\n"
          ]
        }
      ],
      "source": [
        "print(len(thisdict))"
      ]
    },
    {
      "cell_type": "code",
      "execution_count": null,
      "metadata": {
        "id": "Jrym1t_8BSsD"
      },
      "outputs": [],
      "source": []
    },
    {
      "cell_type": "markdown",
      "metadata": {
        "id": "ZLUKSdL1BWLk"
      },
      "source": [
        "Dictionary Items - Data Types\n",
        "The values in dictionary items can be of any data type:"
      ]
    },
    {
      "cell_type": "code",
      "execution_count": null,
      "metadata": {
        "colab": {
          "base_uri": "https://localhost:8080/"
        },
        "id": "XqdW4KxlBWqb",
        "outputId": "4412f55f-9d5b-4a8a-e1b4-d1e5a204f15a"
      },
      "outputs": [
        {
          "name": "stdout",
          "output_type": "stream",
          "text": [
            "{'brand': 'Ford', 'electric': False, 'year': 1964, 'colors': ['red', 'white', 'blue']}\n",
            "<class 'dict'>\n"
          ]
        }
      ],
      "source": [
        "thisdict = {\n",
        "  \"brand\": \"Ford\",\n",
        "  \"electric\": False,\n",
        "  \"year\": 1964,\n",
        "  \"colors\": [\"red\", \"white\", \"blue\"]\n",
        "}\n",
        "print(thisdict)\n",
        "print(type(thisdict))"
      ]
    },
    {
      "cell_type": "code",
      "execution_count": null,
      "metadata": {
        "id": "-45x3A9vBSxF"
      },
      "outputs": [],
      "source": []
    },
    {
      "cell_type": "markdown",
      "metadata": {
        "id": "RwhoBZk1BhIi"
      },
      "source": [
        "The dict() Constructor\n",
        "It is also possible to use the dict() constructor to make a dictionary."
      ]
    },
    {
      "cell_type": "code",
      "execution_count": null,
      "metadata": {
        "colab": {
          "base_uri": "https://localhost:8080/"
        },
        "id": "e930q5mtBhn9",
        "outputId": "f8c85323-4c66-4f15-b561-32efcf300fc3"
      },
      "outputs": [
        {
          "name": "stdout",
          "output_type": "stream",
          "text": [
            "{'name': 'John', 'age': 36, 'country': 'Norway'}\n"
          ]
        }
      ],
      "source": [
        "thisdict = dict(name = \"John\", age = 36, country = \"Norway\")\n",
        "print(thisdict)"
      ]
    },
    {
      "cell_type": "markdown",
      "metadata": {
        "id": "Y2DewotrQ0dU"
      },
      "source": [
        "Get Keys\n",
        "The keys() method will return a list of all the keys in the dictionary."
      ]
    },
    {
      "cell_type": "code",
      "execution_count": null,
      "metadata": {
        "colab": {
          "base_uri": "https://localhost:8080/"
        },
        "id": "KfeYERaIQ1HD",
        "outputId": "53d49832-9614-4793-9732-0b8dbac2295b"
      },
      "outputs": [
        {
          "name": "stdout",
          "output_type": "stream",
          "text": [
            "dict_keys(['name', 'age', 'country'])\n"
          ]
        }
      ],
      "source": [
        "x = thisdict.keys()\n",
        "print(x)"
      ]
    },
    {
      "cell_type": "markdown",
      "metadata": {
        "id": "OEZXP4lkRAYb"
      },
      "source": [
        "The list of the keys is a view of the dictionary, meaning that any changes done to the dictionary will be reflected in the keys list."
      ]
    },
    {
      "cell_type": "code",
      "execution_count": null,
      "metadata": {
        "colab": {
          "base_uri": "https://localhost:8080/"
        },
        "id": "cRsi2prQRA6e",
        "outputId": "d5028453-f73d-4510-8b63-20ad43c70de8"
      },
      "outputs": [
        {
          "name": "stdout",
          "output_type": "stream",
          "text": [
            "dict_keys(['brand', 'model', 'year'])\n",
            "dict_keys(['brand', 'model', 'year', 'color'])\n"
          ]
        }
      ],
      "source": [
        "car = {\n",
        "\"brand\": \"Ford\",\n",
        "\"model\": \"Mustang\",\n",
        "\"year\": 1964\n",
        "}\n",
        "\n",
        "x = car.keys()\n",
        "\n",
        "print(x) #before the change\n",
        "\n",
        "car[\"color\"] = \"white\"\n",
        "\n",
        "print(x) #after the change"
      ]
    },
    {
      "cell_type": "markdown",
      "metadata": {
        "id": "AC9pdLJARHC_"
      },
      "source": [
        "Get Values\n",
        "The values() method will return a list of all the values in the dictionary."
      ]
    },
    {
      "cell_type": "code",
      "execution_count": null,
      "metadata": {
        "colab": {
          "base_uri": "https://localhost:8080/"
        },
        "id": "SkbeP6kpRHrN",
        "outputId": "45364300-a3f5-4b7a-ea4d-349e931cb6fb"
      },
      "outputs": [
        {
          "name": "stdout",
          "output_type": "stream",
          "text": [
            "dict_values(['John', 36, 'Norway'])\n"
          ]
        }
      ],
      "source": [
        "x = thisdict.values()\n",
        "print(x)"
      ]
    },
    {
      "cell_type": "markdown",
      "metadata": {
        "id": "rAmXoInVRMpt"
      },
      "source": [
        "The list of the values is a view of the dictionary, meaning that any changes done to the dictionary will be reflected in the values list."
      ]
    },
    {
      "cell_type": "code",
      "execution_count": null,
      "metadata": {
        "colab": {
          "base_uri": "https://localhost:8080/"
        },
        "id": "w9d7gk9wRNFR",
        "outputId": "ab667172-8a24-48cd-eda3-dd4113041717"
      },
      "outputs": [
        {
          "name": "stdout",
          "output_type": "stream",
          "text": [
            "dict_values(['Ford', 'Mustang', 1964])\n",
            "dict_values(['Ford', 'Mustang', 2020])\n"
          ]
        }
      ],
      "source": [
        "car = {\n",
        "\"brand\": \"Ford\",\n",
        "\"model\": \"Mustang\",\n",
        "\"year\": 1964\n",
        "}\n",
        "\n",
        "x = car.values()\n",
        "\n",
        "print(x) #before the change\n",
        "\n",
        "car[\"year\"] = 2020\n",
        "\n",
        "print(x) #after the change"
      ]
    },
    {
      "cell_type": "markdown",
      "metadata": {
        "id": "d2D7P2dJRZwZ"
      },
      "source": [
        "Get Items\n",
        "The items() method will return each item in a dictionary, as tuples in a list."
      ]
    },
    {
      "cell_type": "code",
      "execution_count": null,
      "metadata": {
        "colab": {
          "base_uri": "https://localhost:8080/"
        },
        "id": "FoS4TxdSRc1C",
        "outputId": "c2494199-de4d-498e-9881-6172beb1c83d"
      },
      "outputs": [
        {
          "name": "stdout",
          "output_type": "stream",
          "text": [
            "dict_items([('name', 'John'), ('age', 36), ('country', 'Norway')])\n"
          ]
        }
      ],
      "source": [
        "x = thisdict.items()\n",
        "print(x)"
      ]
    },
    {
      "cell_type": "markdown",
      "metadata": {
        "id": "VaO8RFExRkGf"
      },
      "source": [
        "Check if Key Exists\n",
        "To determine if a specified key is present in a dictionary use the in keyword:"
      ]
    },
    {
      "cell_type": "code",
      "execution_count": null,
      "metadata": {
        "colab": {
          "base_uri": "https://localhost:8080/"
        },
        "id": "QoLif5JnRkpC",
        "outputId": "42c4013d-2de5-4fb4-dcf6-245677151747"
      },
      "outputs": [
        {
          "name": "stdout",
          "output_type": "stream",
          "text": [
            "Yes, 'model' is one of the keys in the thisdict dictionary\n"
          ]
        }
      ],
      "source": [
        "thisdict = {\n",
        "  \"brand\": \"Ford\",\n",
        "  \"model\": \"Mustang\",\n",
        "  \"year\": 1964\n",
        "}\n",
        "if \"model\" in thisdict:\n",
        "  print(\"Yes, 'model' is one of the keys in the thisdict dictionary\")"
      ]
    },
    {
      "cell_type": "markdown",
      "metadata": {
        "id": "N8S2IgY6RrMr"
      },
      "source": [
        "Change Values\n",
        "You can change the value of a specific item by referring to its key name:"
      ]
    },
    {
      "cell_type": "code",
      "execution_count": null,
      "metadata": {
        "colab": {
          "base_uri": "https://localhost:8080/"
        },
        "id": "Mr6ZGddJRs7q",
        "outputId": "6102f82b-0d77-4ff0-8292-a411a82a1914"
      },
      "outputs": [
        {
          "name": "stdout",
          "output_type": "stream",
          "text": [
            "{'brand': 'Ford', 'model': 'Mustang', 'year': 2018}\n"
          ]
        }
      ],
      "source": [
        "thisdict = {\n",
        "  \"brand\": \"Ford\",\n",
        "  \"model\": \"Mustang\",\n",
        "  \"year\": 1964\n",
        "}\n",
        "thisdict[\"year\"] = 2018\n",
        "print(thisdict)"
      ]
    },
    {
      "cell_type": "markdown",
      "metadata": {
        "id": "qcrqo2I1R13f"
      },
      "source": [
        "Update Dictionary\n",
        "The update() method will update the dictionary with the items from the given argument.\n",
        "\n",
        "The argument must be a dictionary, or an iterable object with key:value pairs."
      ]
    },
    {
      "cell_type": "code",
      "execution_count": null,
      "metadata": {
        "colab": {
          "base_uri": "https://localhost:8080/"
        },
        "id": "XGNkWj0yR2dy",
        "outputId": "57d2b811-2592-4905-afcc-b180022b884d"
      },
      "outputs": [
        {
          "name": "stdout",
          "output_type": "stream",
          "text": [
            "{'brand': 'Ford', 'model': 'Mustang', 'year': 2020}\n"
          ]
        }
      ],
      "source": [
        "thisdict = {\n",
        "  \"brand\": \"Ford\",\n",
        "  \"model\": \"Mustang\",\n",
        "  \"year\": 1964\n",
        "}\n",
        "thisdict.update({\"year\": 2020})\n",
        "print(thisdict)"
      ]
    },
    {
      "cell_type": "markdown",
      "metadata": {
        "id": "y9O9_1wiSCDa"
      },
      "source": [
        "Adding Items\n",
        "Adding an item to the dictionary is done by using a new index key and assigning a value to it:"
      ]
    },
    {
      "cell_type": "code",
      "execution_count": null,
      "metadata": {
        "colab": {
          "base_uri": "https://localhost:8080/"
        },
        "id": "7h0QurpVSCnG",
        "outputId": "a057b040-4fb8-4476-8016-c06d76a7230f"
      },
      "outputs": [
        {
          "name": "stdout",
          "output_type": "stream",
          "text": [
            "{'brand': 'Ford', 'model': 'Mustang', 'year': 1964, 'color': 'red'}\n"
          ]
        }
      ],
      "source": [
        "thisdict = {\n",
        "  \"brand\": \"Ford\",\n",
        "  \"model\": \"Mustang\",\n",
        "  \"year\": 1964\n",
        "}\n",
        "thisdict[\"color\"] = \"red\"\n",
        "print(thisdict)"
      ]
    },
    {
      "cell_type": "markdown",
      "metadata": {
        "id": "fpKG9cQeSJUu"
      },
      "source": [
        "Update Dictionary\n",
        "The update() method will update the dictionary with the items from a given argument. If the item does not exist, the item will be added.\n",
        "\n",
        "The argument must be a dictionary, or an iterable object with key:value pairs."
      ]
    },
    {
      "cell_type": "code",
      "execution_count": null,
      "metadata": {
        "id": "XKFovpeESMey"
      },
      "outputs": [],
      "source": [
        "thisdict = {\n",
        "  \"brand\": \"Ford\",\n",
        "  \"model\": \"Mustang\",\n",
        "  \"year\": 1964\n",
        "}\n",
        "thisdict.update({\"color\": \"red\"})"
      ]
    },
    {
      "cell_type": "code",
      "execution_count": null,
      "metadata": {
        "id": "-LF0FngoSJ1i"
      },
      "outputs": [],
      "source": []
    },
    {
      "cell_type": "markdown",
      "metadata": {
        "id": "YoHBnGpMSRkW"
      },
      "source": [
        "Removing Items\n",
        "There are several methods to remove items from a dictionary:"
      ]
    },
    {
      "cell_type": "code",
      "execution_count": null,
      "metadata": {
        "colab": {
          "base_uri": "https://localhost:8080/"
        },
        "id": "qi0m0ZlESSG8",
        "outputId": "dff8e33c-d91e-43d2-f335-1388b15b8a79"
      },
      "outputs": [
        {
          "name": "stdout",
          "output_type": "stream",
          "text": [
            "{'brand': 'Ford', 'year': 1964}\n"
          ]
        }
      ],
      "source": [
        "thisdict = {\n",
        "  \"brand\": \"Ford\",\n",
        "  \"model\": \"Mustang\",\n",
        "  \"year\": 1964\n",
        "}\n",
        "thisdict.pop(\"model\")\n",
        "print(thisdict)"
      ]
    },
    {
      "cell_type": "markdown",
      "metadata": {
        "id": "X8LbxPbdSYyr"
      },
      "source": [
        "The del keyword removes the item with the specified key name:"
      ]
    },
    {
      "cell_type": "code",
      "execution_count": null,
      "metadata": {
        "colab": {
          "base_uri": "https://localhost:8080/"
        },
        "id": "EnKzqyFgSZRo",
        "outputId": "3989a643-0112-4a20-c963-a30641cc9879"
      },
      "outputs": [
        {
          "name": "stdout",
          "output_type": "stream",
          "text": [
            "{'brand': 'Ford', 'year': 1964}\n"
          ]
        }
      ],
      "source": [
        "thisdict = {\n",
        "  \"brand\": \"Ford\",\n",
        "  \"model\": \"Mustang\",\n",
        "  \"year\": 1964\n",
        "}\n",
        "del thisdict[\"model\"]\n",
        "print(thisdict)"
      ]
    },
    {
      "cell_type": "markdown",
      "metadata": {
        "id": "Z0SQiSdKh1Zr"
      },
      "source": [
        "Sets in Python\n",
        "A set is a collection which is unordered, unchangeable*, and unindexed."
      ]
    },
    {
      "cell_type": "code",
      "execution_count": null,
      "metadata": {
        "id": "W_ITqFSah1wJ"
      },
      "outputs": [],
      "source": [
        "numbers = {1, 2, 3, 4, 5}\n"
      ]
    },
    {
      "cell_type": "code",
      "execution_count": null,
      "metadata": {
        "colab": {
          "base_uri": "https://localhost:8080/"
        },
        "id": "FgbGZCmNh3sa",
        "outputId": "aa7adf8c-481a-42ef-8138-a417010d08e5"
      },
      "outputs": [
        {
          "name": "stdout",
          "output_type": "stream",
          "text": [
            "{1, 2, 3, 4, 5}\n",
            "{3}\n",
            "{1, 2}\n"
          ]
        }
      ],
      "source": [
        "A = {1, 2, 3}\n",
        "B = {3, 4, 5}\n",
        "\n",
        "print(A | B)\n",
        "print(A & B)\n",
        "print(A - B)\n"
      ]
    },
    {
      "cell_type": "code",
      "execution_count": null,
      "metadata": {
        "id": "hPnwYgBzh5ai"
      },
      "outputs": [],
      "source": []
    },
    {
      "cell_type": "markdown",
      "metadata": {
        "id": "LgD34zwvThIt"
      },
      "source": [
        "Duplicates Not Allowed\n",
        "Sets cannot have two items with the same value."
      ]
    },
    {
      "cell_type": "code",
      "execution_count": null,
      "metadata": {
        "colab": {
          "base_uri": "https://localhost:8080/"
        },
        "id": "AsVg0oaiTh3Z",
        "outputId": "1b71143c-f3c5-4428-be99-956c7d217157"
      },
      "outputs": [
        {
          "name": "stdout",
          "output_type": "stream",
          "text": [
            "{'banana', 'cherry', 'apple'}\n"
          ]
        }
      ],
      "source": [
        "thisset = {\"apple\", \"banana\", \"cherry\", \"apple\"}\n",
        "\n",
        "print(thisset)"
      ]
    },
    {
      "cell_type": "markdown",
      "metadata": {
        "id": "PhTTgg1FTn86"
      },
      "source": [
        "True and 1 is considered the same value:"
      ]
    },
    {
      "cell_type": "code",
      "execution_count": null,
      "metadata": {
        "colab": {
          "base_uri": "https://localhost:8080/"
        },
        "id": "mKRJmbQuTpwx",
        "outputId": "b7034e52-4e89-4d22-b362-eea9c9d01331"
      },
      "outputs": [
        {
          "name": "stdout",
          "output_type": "stream",
          "text": [
            "{'cherry', 'apple', 2, True, 'banana'}\n"
          ]
        }
      ],
      "source": [
        "thisset = {\"apple\", \"banana\", \"cherry\", True, 1, 2}\n",
        "\n",
        "print(thisset)"
      ]
    },
    {
      "cell_type": "markdown",
      "metadata": {
        "id": "kR5wydQOTs-a"
      },
      "source": [
        "False and 0 is considered the same value:"
      ]
    },
    {
      "cell_type": "code",
      "execution_count": null,
      "metadata": {
        "colab": {
          "base_uri": "https://localhost:8080/"
        },
        "id": "iFIGvPUnTtZT",
        "outputId": "f8081dda-d787-409c-ac80-02ceccbe2b8e"
      },
      "outputs": [
        {
          "name": "stdout",
          "output_type": "stream",
          "text": [
            "{False, 'cherry', 'apple', True, 'banana'}\n"
          ]
        }
      ],
      "source": [
        "thisset = {\"apple\", \"banana\", \"cherry\", False, True, 0}\n",
        "\n",
        "print(thisset)"
      ]
    },
    {
      "cell_type": "markdown",
      "metadata": {
        "id": "goerCHqbT0eV"
      },
      "source": [
        "Get the Length of a Set\n",
        "To determine how many items a set has, use the len() function."
      ]
    },
    {
      "cell_type": "code",
      "execution_count": null,
      "metadata": {
        "colab": {
          "base_uri": "https://localhost:8080/"
        },
        "id": "FLSdM0oJT2Af",
        "outputId": "b99061d1-088b-4289-9152-fbc21c8b06d5"
      },
      "outputs": [
        {
          "name": "stdout",
          "output_type": "stream",
          "text": [
            "3\n"
          ]
        }
      ],
      "source": [
        "thisset = {\"apple\", \"banana\", \"cherry\"}\n",
        "\n",
        "print(len(thisset))"
      ]
    },
    {
      "cell_type": "markdown",
      "metadata": {
        "id": "iLIGeSv5T5i7"
      },
      "source": [
        "Set Items - Data Types\n",
        "Set items can be of any data type:"
      ]
    },
    {
      "cell_type": "code",
      "execution_count": null,
      "metadata": {
        "id": "GJx4wcicT6D9"
      },
      "outputs": [],
      "source": [
        "set1 = {\"apple\", \"banana\", \"cherry\"}\n",
        "set2 = {1, 5, 7, 9, 3}\n",
        "set3 = {True, False, False}"
      ]
    },
    {
      "cell_type": "markdown",
      "metadata": {
        "id": "R4evvaZqT_Rf"
      },
      "source": []
    },
    {
      "cell_type": "markdown",
      "metadata": {
        "id": "olLeT5r3T_aS"
      },
      "source": [
        "A set can contain different data types:"
      ]
    },
    {
      "cell_type": "code",
      "execution_count": null,
      "metadata": {
        "id": "j3l9mRHaUAA7"
      },
      "outputs": [],
      "source": [
        "set1 = {\"abc\", 34, True, 40, \"male\"}"
      ]
    },
    {
      "cell_type": "markdown",
      "metadata": {
        "id": "cxAqom5yUE5_"
      },
      "source": [
        "type()\n",
        "From Python's perspective, sets are defined as objects with the data type 'set':"
      ]
    },
    {
      "cell_type": "code",
      "execution_count": null,
      "metadata": {
        "id": "Rz9nAnFsUFbZ",
        "colab": {
          "base_uri": "https://localhost:8080/"
        },
        "outputId": "f142c6b2-8e7b-47f2-b1a6-6069e4994a24"
      },
      "outputs": [
        {
          "output_type": "stream",
          "name": "stdout",
          "text": [
            "<class 'set'>\n"
          ]
        }
      ],
      "source": [
        "myset = {\"apple\", \"banana\", \"cherry\"}\n",
        "print(type(myset))"
      ]
    },
    {
      "cell_type": "markdown",
      "metadata": {
        "id": "n9jpOOO2UHKU"
      },
      "source": [
        "The set() Constructor\n",
        "It is also possible to use the set() constructor to make a set."
      ]
    },
    {
      "cell_type": "code",
      "execution_count": null,
      "metadata": {
        "colab": {
          "base_uri": "https://localhost:8080/"
        },
        "id": "6wmXQt-DUJhH",
        "outputId": "642fd6c7-70e5-4c95-b6e0-919616bb76c8"
      },
      "outputs": [
        {
          "name": "stdout",
          "output_type": "stream",
          "text": [
            "{'banana', 'cherry', 'apple'}\n"
          ]
        }
      ],
      "source": [
        "thisset = set((\"apple\", \"banana\", \"cherry\")) # note the double round-brackets\n",
        "print(thisset)"
      ]
    },
    {
      "cell_type": "code",
      "execution_count": null,
      "metadata": {
        "colab": {
          "base_uri": "https://localhost:8080/"
        },
        "id": "0AuV1m7PURz9",
        "outputId": "d8217c05-d176-42fd-d3fe-3c7b25f192fe"
      },
      "outputs": [
        {
          "name": "stdout",
          "output_type": "stream",
          "text": [
            "True\n"
          ]
        }
      ],
      "source": [
        "thisset = {\"apple\", \"banana\", \"cherry\"}\n",
        "\n",
        "print(\"banana\" in thisset)"
      ]
    },
    {
      "cell_type": "code",
      "execution_count": null,
      "metadata": {
        "colab": {
          "base_uri": "https://localhost:8080/"
        },
        "id": "zUJ6TLbtUSUm",
        "outputId": "f260f489-cfcd-4ed2-d410-d07a1a1503d4"
      },
      "outputs": [
        {
          "name": "stdout",
          "output_type": "stream",
          "text": [
            "False\n"
          ]
        }
      ],
      "source": [
        "thisset = {\"apple\", \"banana\", \"cherry\"}\n",
        "\n",
        "print(\"banana\" not in thisset)"
      ]
    },
    {
      "cell_type": "code",
      "execution_count": null,
      "metadata": {
        "id": "SzoO2_38UYOn"
      },
      "outputs": [],
      "source": []
    },
    {
      "cell_type": "markdown",
      "metadata": {
        "id": "hEDRN5EeUYwL"
      },
      "source": [
        "To add one item to a set use the add() method."
      ]
    },
    {
      "cell_type": "code",
      "execution_count": null,
      "metadata": {
        "colab": {
          "base_uri": "https://localhost:8080/"
        },
        "id": "nwKzUJkyUZQv",
        "outputId": "ca5a2204-b6df-454f-f8c5-4b0bae0d7abf"
      },
      "outputs": [
        {
          "name": "stdout",
          "output_type": "stream",
          "text": [
            "{'banana', 'cherry', 'apple', 'orange'}\n"
          ]
        }
      ],
      "source": [
        "thisset = {\"apple\", \"banana\", \"cherry\"}\n",
        "\n",
        "thisset.add(\"orange\")\n",
        "\n",
        "print(thisset)"
      ]
    },
    {
      "cell_type": "markdown",
      "metadata": {
        "id": "bA1LrxUjUhqP"
      },
      "source": [
        "Remove Item\n",
        "To remove an item in a set, use the remove(), or the discard() method."
      ]
    },
    {
      "cell_type": "code",
      "execution_count": null,
      "metadata": {
        "colab": {
          "base_uri": "https://localhost:8080/"
        },
        "id": "usRkPvyoUiJd",
        "outputId": "7582a370-6e71-441b-e4d0-e3022c453aae"
      },
      "outputs": [
        {
          "name": "stdout",
          "output_type": "stream",
          "text": [
            "{'cherry', 'apple'}\n"
          ]
        }
      ],
      "source": [
        "thisset = {\"apple\", \"banana\", \"cherry\"}\n",
        "\n",
        "thisset.remove(\"banana\")\n",
        "\n",
        "print(thisset)"
      ]
    },
    {
      "cell_type": "markdown",
      "metadata": {
        "id": "LA0LWz2RUoab"
      },
      "source": [
        "You can also use the pop() method to remove an item, but this method will remove a random item, so you cannot be sure what item that gets removed.\n",
        "\n",
        "The return value of the pop() method is the removed item."
      ]
    },
    {
      "cell_type": "code",
      "execution_count": null,
      "metadata": {
        "colab": {
          "base_uri": "https://localhost:8080/"
        },
        "id": "jMC2Wyg8Uo2V",
        "outputId": "cb6d9a39-53fe-4f5d-db01-26bd6e2318b1"
      },
      "outputs": [
        {
          "name": "stdout",
          "output_type": "stream",
          "text": [
            "banana\n",
            "{'cherry', 'apple'}\n"
          ]
        }
      ],
      "source": [
        "thisset = {\"apple\", \"banana\", \"cherry\"}\n",
        "\n",
        "x = thisset.pop()\n",
        "\n",
        "print(x)\n",
        "\n",
        "print(thisset)"
      ]
    },
    {
      "cell_type": "markdown",
      "source": [
        "The clear() method empties the set:"
      ],
      "metadata": {
        "id": "MZSr5rGfdWIN"
      }
    },
    {
      "cell_type": "code",
      "source": [
        "thisset = {\"apple\", \"banana\", \"cherry\"}\n",
        "\n",
        "thisset.clear()\n",
        "\n",
        "print(thisset)"
      ],
      "metadata": {
        "colab": {
          "base_uri": "https://localhost:8080/"
        },
        "id": "Jo1VxQo2dWha",
        "outputId": "6a020ae7-259d-441f-cd54-f1048c177e53"
      },
      "execution_count": null,
      "outputs": [
        {
          "output_type": "stream",
          "name": "stdout",
          "text": [
            "set()\n"
          ]
        }
      ]
    },
    {
      "cell_type": "markdown",
      "source": [
        "The del keyword will delete the set completely:"
      ],
      "metadata": {
        "id": "xVJLI53qdaTh"
      }
    },
    {
      "cell_type": "code",
      "source": [
        "thisset = {\"apple\", \"banana\", \"cherry\"}\n",
        "\n",
        "del thisset\n",
        "\n",
        "print(thisset)"
      ],
      "metadata": {
        "colab": {
          "base_uri": "https://localhost:8080/",
          "height": 176
        },
        "id": "l_vg1VtRda28",
        "outputId": "a4361aa1-380a-47b8-da1f-f7c0da4194a1"
      },
      "execution_count": null,
      "outputs": [
        {
          "output_type": "error",
          "ename": "NameError",
          "evalue": "name 'thisset' is not defined",
          "traceback": [
            "\u001b[0;31m---------------------------------------------------------------------------\u001b[0m",
            "\u001b[0;31mNameError\u001b[0m                                 Traceback (most recent call last)",
            "\u001b[0;32m<ipython-input-3-b0ed94c1bb6f>\u001b[0m in \u001b[0;36m<cell line: 0>\u001b[0;34m()\u001b[0m\n\u001b[1;32m      3\u001b[0m \u001b[0;32mdel\u001b[0m \u001b[0mthisset\u001b[0m\u001b[0;34m\u001b[0m\u001b[0;34m\u001b[0m\u001b[0m\n\u001b[1;32m      4\u001b[0m \u001b[0;34m\u001b[0m\u001b[0m\n\u001b[0;32m----> 5\u001b[0;31m \u001b[0mprint\u001b[0m\u001b[0;34m(\u001b[0m\u001b[0mthisset\u001b[0m\u001b[0;34m)\u001b[0m\u001b[0;34m\u001b[0m\u001b[0;34m\u001b[0m\u001b[0m\n\u001b[0m",
            "\u001b[0;31mNameError\u001b[0m: name 'thisset' is not defined"
          ]
        }
      ]
    },
    {
      "cell_type": "markdown",
      "source": [
        "Union\n",
        "The union() method returns a new set with all items from both sets."
      ],
      "metadata": {
        "id": "-0jkJv7FdnRs"
      }
    },
    {
      "cell_type": "code",
      "source": [
        "set1 = {\"a\", \"b\", \"c\"}\n",
        "set2 = {1, 2, 3}\n",
        "\n",
        "set3 = set1.union(set2)\n",
        "print(set3)"
      ],
      "metadata": {
        "colab": {
          "base_uri": "https://localhost:8080/"
        },
        "id": "j5swvRbKdnw3",
        "outputId": "e5224d1e-bf75-4073-91e0-01fab83c6972"
      },
      "execution_count": null,
      "outputs": [
        {
          "output_type": "stream",
          "name": "stdout",
          "text": [
            "{1, 2, 3, 'b', 'a', 'c'}\n"
          ]
        }
      ]
    },
    {
      "cell_type": "markdown",
      "source": [],
      "metadata": {
        "id": "-X5cfqyBdpHD"
      }
    },
    {
      "cell_type": "markdown",
      "source": [
        "You can use the | operator instead of the union() method, and you will get the same result."
      ],
      "metadata": {
        "id": "mKmGUFL8dqMT"
      }
    },
    {
      "cell_type": "code",
      "source": [
        "set1 = {\"a\", \"b\", \"c\"}\n",
        "set2 = {1, 2, 3}\n",
        "\n",
        "set3 = set1 | set2\n",
        "print(set3)"
      ],
      "metadata": {
        "id": "iuu4gaCGds_P"
      },
      "execution_count": null,
      "outputs": []
    },
    {
      "cell_type": "markdown",
      "source": [
        "Join Multiple Sets\n",
        "All the joining methods and operators can be used to join multiple sets.\n",
        "\n",
        "When using a method, just add more sets in the parentheses, separated by commas:"
      ],
      "metadata": {
        "id": "9I9yMAvgduXZ"
      }
    },
    {
      "cell_type": "code",
      "source": [
        "set1 = {\"a\", \"b\", \"c\"}\n",
        "set2 = {1, 2, 3}\n",
        "set3 = {\"John\", \"Elena\"}\n",
        "set4 = {\"apple\", \"bananas\", \"cherry\"}\n",
        "\n",
        "myset = set1.union(set2, set3, set4)\n",
        "print(myset)"
      ],
      "metadata": {
        "colab": {
          "base_uri": "https://localhost:8080/"
        },
        "id": "SzN1eeRRdyv4",
        "outputId": "9f33ad49-e464-4454-8e1b-5fe2b27423a0"
      },
      "execution_count": null,
      "outputs": [
        {
          "output_type": "stream",
          "name": "stdout",
          "text": [
            "{1, 2, 3, 'a', 'John', 'Elena', 'apple', 'b', 'cherry', 'c', 'bananas'}\n"
          ]
        }
      ]
    },
    {
      "cell_type": "code",
      "source": [],
      "metadata": {
        "id": "kuY0jI36d2U-"
      },
      "execution_count": null,
      "outputs": []
    },
    {
      "cell_type": "markdown",
      "source": [
        "When using the | operator, separate the sets with more | operators:"
      ],
      "metadata": {
        "id": "n2uQDfCNd2gi"
      }
    },
    {
      "cell_type": "code",
      "source": [],
      "metadata": {
        "id": "9iSKiDMKd3GN"
      },
      "execution_count": null,
      "outputs": []
    },
    {
      "cell_type": "code",
      "source": [
        "set1 = {\"a\", \"b\", \"c\"}\n",
        "set2 = {1, 2, 3}\n",
        "set3 = {\"John\", \"Elena\"}\n",
        "set4 = {\"apple\", \"bananas\", \"cherry\"}\n",
        "\n",
        "myset = set1 | set2 | set3 |set4\n",
        "print(myset)"
      ],
      "metadata": {
        "colab": {
          "base_uri": "https://localhost:8080/"
        },
        "id": "pHXf2n3vd3OH",
        "outputId": "aa80ff20-2dc7-4658-f85c-8e80d0572646"
      },
      "execution_count": null,
      "outputs": [
        {
          "output_type": "stream",
          "name": "stdout",
          "text": [
            "{1, 2, 3, 'a', 'John', 'Elena', 'apple', 'b', 'cherry', 'c', 'bananas'}\n"
          ]
        }
      ]
    },
    {
      "cell_type": "markdown",
      "source": [
        "Join a Set and a Tuple\n",
        "The union() method allows you to join a set with other data types, like lists or tuples.\n",
        "\n",
        "The result will be a set."
      ],
      "metadata": {
        "id": "xjc67EvSd8yz"
      }
    },
    {
      "cell_type": "code",
      "source": [
        "x = {\"a\", \"b\", \"c\"}\n",
        "y = (1, 2, 3)\n",
        "\n",
        "z = x.union(y)\n",
        "print(z)"
      ],
      "metadata": {
        "colab": {
          "base_uri": "https://localhost:8080/"
        },
        "id": "pZIHcmKxd_MJ",
        "outputId": "c0217b67-48cb-4ba9-e4b4-102707e8955d"
      },
      "execution_count": null,
      "outputs": [
        {
          "output_type": "stream",
          "name": "stdout",
          "text": [
            "{1, 2, 3, 'a', 'b', 'c'}\n"
          ]
        }
      ]
    },
    {
      "cell_type": "markdown",
      "source": [
        "Update\n",
        "The update() method inserts all items from one set into another.\n",
        "\n",
        "The update() changes the original set, and does not return a new set."
      ],
      "metadata": {
        "id": "WkWZGCxLeMuD"
      }
    },
    {
      "cell_type": "code",
      "source": [
        "set1 = {\"a\", \"b\" , \"c\"}\n",
        "set2 = {1, 2, 3}\n",
        "\n",
        "set1.update(set2)\n",
        "print(set1)"
      ],
      "metadata": {
        "colab": {
          "base_uri": "https://localhost:8080/"
        },
        "id": "ad0DPwx9eQH9",
        "outputId": "84339c1f-6f16-41eb-fdc7-b6a8f0ffabe1"
      },
      "execution_count": null,
      "outputs": [
        {
          "output_type": "stream",
          "name": "stdout",
          "text": [
            "{1, 2, 3, 'b', 'a', 'c'}\n"
          ]
        }
      ]
    },
    {
      "cell_type": "markdown",
      "metadata": {
        "id": "o-2R9VBbUyOO"
      },
      "source": [
        "Task\n",
        "Write a Python program that takes two sets as input and:\n",
        "\n",
        "Finds the common elements (intersection).\n",
        "Finds elements unique to the first set (difference).\n",
        "Combines both sets without duplicates (union)."
      ]
    },
    {
      "cell_type": "markdown",
      "source": [
        "Intersection\n",
        "Keep ONLY the duplicates\n",
        "\n",
        "The intersection() method will return a new set, that only contains the items that are present in both sets."
      ],
      "metadata": {
        "id": "j8OHFRtieWOp"
      }
    },
    {
      "cell_type": "code",
      "source": [
        "set1 = {\"apple\", \"banana\", \"cherry\"}\n",
        "set2 = {\"google\", \"microsoft\", \"apple\"}\n",
        "\n",
        "set3 = set1.intersection(set2)\n",
        "print(set3)"
      ],
      "metadata": {
        "colab": {
          "base_uri": "https://localhost:8080/"
        },
        "id": "kUE7Ns5EeWpS",
        "outputId": "1a40dbf7-45d9-4e32-edbc-1d7a46b1e778"
      },
      "execution_count": null,
      "outputs": [
        {
          "output_type": "stream",
          "name": "stdout",
          "text": [
            "{'apple'}\n"
          ]
        }
      ]
    },
    {
      "cell_type": "markdown",
      "source": [
        "You can use the & operator instead of the intersection() method, and you will get the same result."
      ],
      "metadata": {
        "id": "bx_iT1n1ebng"
      }
    },
    {
      "cell_type": "code",
      "source": [
        "set1 = {\"apple\", \"banana\", \"cherry\"}\n",
        "set2 = {\"google\", \"microsoft\", \"apple\"}\n",
        "\n",
        "set3 = set1 & set2\n",
        "print(set3)"
      ],
      "metadata": {
        "colab": {
          "base_uri": "https://localhost:8080/"
        },
        "id": "zQ1g1LW6ecDL",
        "outputId": "7abac9b6-04fb-48b8-e08e-cede3fd703df"
      },
      "execution_count": null,
      "outputs": [
        {
          "output_type": "stream",
          "name": "stdout",
          "text": [
            "{'apple'}\n"
          ]
        }
      ]
    },
    {
      "cell_type": "markdown",
      "source": [
        "Difference\n",
        "The difference() method will return a new set that will contain only the items from the first set that are not present in the other set."
      ],
      "metadata": {
        "id": "ZcffPDoreq3S"
      }
    },
    {
      "cell_type": "code",
      "source": [
        "set1 = {\"apple\", \"banana\", \"cherry\"}\n",
        "set2 = {\"google\", \"microsoft\", \"apple\"}\n",
        "\n",
        "set3 = set1.difference(set2)\n",
        "\n",
        "print(set3)"
      ],
      "metadata": {
        "colab": {
          "base_uri": "https://localhost:8080/"
        },
        "id": "qWUOe9MmerPB",
        "outputId": "fe769c60-1cf7-4dbf-c408-7776879f7c4e"
      },
      "execution_count": null,
      "outputs": [
        {
          "output_type": "stream",
          "name": "stdout",
          "text": [
            "{'cherry', 'banana'}\n"
          ]
        }
      ]
    },
    {
      "cell_type": "markdown",
      "source": [
        "You can use the - operator instead of the difference() method, and you will get the same result."
      ],
      "metadata": {
        "id": "bcwgECxGevn7"
      }
    },
    {
      "cell_type": "code",
      "source": [
        "set1 = {\"apple\", \"banana\", \"cherry\"}\n",
        "set2 = {\"google\", \"microsoft\", \"apple\"}\n",
        "\n",
        "set3 = set1 - set2\n",
        "print(set3)"
      ],
      "metadata": {
        "colab": {
          "base_uri": "https://localhost:8080/"
        },
        "id": "MVpxt99Vev_o",
        "outputId": "3215e0fa-5b45-4783-9006-f2f860b8aaf2"
      },
      "execution_count": null,
      "outputs": [
        {
          "output_type": "stream",
          "name": "stdout",
          "text": [
            "{'cherry', 'banana'}\n"
          ]
        }
      ]
    },
    {
      "cell_type": "markdown",
      "source": [
        "The difference_update() method will also keep the items from the first set that are not in the other set, but it will change the original set instead of returning a new set."
      ],
      "metadata": {
        "id": "36x5M4vHe9XA"
      }
    },
    {
      "cell_type": "code",
      "source": [
        "set1 = {\"apple\", \"banana\", \"cherry\"}\n",
        "set2 = {\"google\", \"microsoft\", \"apple\"}\n",
        "\n",
        "set1.difference_update(set2)\n",
        "\n",
        "print(set1)"
      ],
      "metadata": {
        "colab": {
          "base_uri": "https://localhost:8080/"
        },
        "id": "4WQ8weXje9uv",
        "outputId": "0e221dd4-3cb9-4ab1-efe1-eaae22333660"
      },
      "execution_count": null,
      "outputs": [
        {
          "output_type": "stream",
          "name": "stdout",
          "text": [
            "{'cherry', 'banana'}\n"
          ]
        }
      ]
    },
    {
      "cell_type": "markdown",
      "source": [
        "The & operator only allows you to join sets with sets, and not with other data types like you can with the intersection() method."
      ],
      "metadata": {
        "id": "xK1Zv3MWehVF"
      }
    },
    {
      "cell_type": "code",
      "execution_count": null,
      "metadata": {
        "colab": {
          "base_uri": "https://localhost:8080/"
        },
        "id": "e9KqnHyiUyx1",
        "outputId": "1dd477ed-e213-45ce-ec1a-06556804a8ba"
      },
      "outputs": [
        {
          "name": "stdout",
          "output_type": "stream",
          "text": [
            "Intersection: {3, 4}\n",
            "Difference: {1, 2}\n",
            "Union: {1, 2, 3, 4, 5, 6}\n"
          ]
        }
      ],
      "source": [
        "set1 = {1, 2, 3, 4}\n",
        "set2 = {3, 4, 5, 6}\n",
        "\n",
        "# Perform operations\n",
        "intersection = set1 & set2\n",
        "difference = set1 - set2\n",
        "union = set1 | set2\n",
        "\n",
        "print(\"Intersection:\", intersection)\n",
        "print(\"Difference:\", difference)\n",
        "print(\"Union:\", union)\n"
      ]
    },
    {
      "cell_type": "markdown",
      "metadata": {
        "id": "e550qFmoU5f5"
      },
      "source": [
        "Task\n",
        "Create a dictionary of student names as keys and their scores as values. Then:\n",
        "\n",
        "Add a new student to the dictionary.\n",
        "Update the score of an existing student.\n",
        "Find the student with the highest score."
      ]
    },
    {
      "cell_type": "code",
      "execution_count": null,
      "metadata": {
        "colab": {
          "base_uri": "https://localhost:8080/"
        },
        "id": "o2lCJ51uU6tI",
        "outputId": "7e708160-a8f2-4edd-d381-26b21f4ce309"
      },
      "outputs": [
        {
          "name": "stdout",
          "output_type": "stream",
          "text": [
            "Updated Dictionary: {'Alice': 90, 'Bob': 78, 'Charlie': 92, 'David': 88}\n",
            "Top Student: Charlie Score: 92\n"
          ]
        }
      ],
      "source": [
        "students = {\"Alice\": 85, \"Bob\": 78, \"Charlie\": 92}\n",
        "\n",
        "# Add a new student\n",
        "students[\"David\"] = 88\n",
        "\n",
        "# Update a score\n",
        "students[\"Alice\"] = 90\n",
        "\n",
        "# Find student with the highest score\n",
        "top_student = max(students, key=students.get)\n",
        "\n",
        "print(\"Updated Dictionary:\", students)\n",
        "print(\"Top Student:\", top_student, \"Score:\", students[top_student])\n"
      ]
    },
    {
      "cell_type": "markdown",
      "metadata": {
        "id": "8PrCz40znHoW"
      },
      "source": [
        "Conditional Execution and Looping in Python  \n",
        "Conditional Statements in Python\n",
        "Conditional statements allow the program to make decisions based on conditions.\n",
        "\n",
        "🔹 if, elif, and else Statements"
      ]
    },
    {
      "cell_type": "code",
      "execution_count": null,
      "metadata": {
        "colab": {
          "base_uri": "https://localhost:8080/"
        },
        "id": "_fGlQu0unH_q",
        "outputId": "da1774b2-d1f8-426e-f9cf-a0ebb473f017"
      },
      "outputs": [
        {
          "name": "stdout",
          "output_type": "stream",
          "text": [
            "You are an adult.\n"
          ]
        }
      ],
      "source": [
        "age = 20\n",
        "\n",
        "if age < 18:\n",
        "    print(\"You are a minor.\")\n",
        "elif age == 18:\n",
        "    print(\"You just became an adult!\")\n",
        "else:\n",
        "    print(\"You are an adult.\")\n"
      ]
    },
    {
      "cell_type": "code",
      "execution_count": null,
      "metadata": {
        "colab": {
          "base_uri": "https://localhost:8080/"
        },
        "id": "nuC_Cg3snSdg",
        "outputId": "078c0b24-541f-480a-f45e-ab42f3efcd84"
      },
      "outputs": [
        {
          "name": "stdout",
          "output_type": "stream",
          "text": [
            "Enter a number: 20\n",
            "Positive number\n"
          ]
        }
      ],
      "source": [
        "num = int(input(\"Enter a number: \"))\n",
        "\n",
        "if num > 0:\n",
        "    print(\"Positive number\")\n",
        "elif num < 0:\n",
        "    print(\"Negative number\")\n",
        "else:\n",
        "    print(\"Zero\")\n"
      ]
    },
    {
      "cell_type": "code",
      "execution_count": null,
      "metadata": {
        "id": "EAFcpINcnd50",
        "colab": {
          "base_uri": "https://localhost:8080/"
        },
        "outputId": "ca84590a-a7d1-454b-d10c-19ebbbb74768"
      },
      "outputs": [
        {
          "output_type": "stream",
          "name": "stdout",
          "text": [
            "b is greater than a\n"
          ]
        }
      ],
      "source": [
        "a = 33\n",
        "b = 200\n",
        "if b > a:\n",
        "  print(\"b is greater than a\")"
      ]
    },
    {
      "cell_type": "code",
      "source": [],
      "metadata": {
        "id": "cOQX5YqifaOk"
      },
      "execution_count": null,
      "outputs": []
    },
    {
      "cell_type": "markdown",
      "source": [
        "If statement, without indentation (will raise an error):"
      ],
      "metadata": {
        "id": "Qwdn1rk8ffLZ"
      }
    },
    {
      "cell_type": "markdown",
      "source": [],
      "metadata": {
        "id": "5BDYVX-Wfl55"
      }
    },
    {
      "cell_type": "code",
      "source": [
        "a = 33\n",
        "b = 200\n",
        "if b > a:\n",
        "print(\"b is greater than a\") # you will get an error"
      ],
      "metadata": {
        "colab": {
          "base_uri": "https://localhost:8080/",
          "height": 106
        },
        "id": "tSHHQficffmp",
        "outputId": "db3a9867-d0a6-43ed-e4e3-0321f2caf746"
      },
      "execution_count": null,
      "outputs": [
        {
          "output_type": "error",
          "ename": "IndentationError",
          "evalue": "expected an indented block after 'if' statement on line 3 (<ipython-input-15-4276c1871af7>, line 4)",
          "traceback": [
            "\u001b[0;36m  File \u001b[0;32m\"<ipython-input-15-4276c1871af7>\"\u001b[0;36m, line \u001b[0;32m4\u001b[0m\n\u001b[0;31m    print(\"b is greater than a\") # you will get an error\u001b[0m\n\u001b[0m    ^\u001b[0m\n\u001b[0;31mIndentationError\u001b[0m\u001b[0;31m:\u001b[0m expected an indented block after 'if' statement on line 3\n"
          ]
        }
      ]
    },
    {
      "cell_type": "markdown",
      "source": [
        "The elif keyword is Python's way of saying \"if the previous conditions were not true, then try this condition\"."
      ],
      "metadata": {
        "id": "HOcNoyYDfm2W"
      }
    },
    {
      "cell_type": "code",
      "source": [
        "a = 33\n",
        "b = 33\n",
        "if b > a:\n",
        "  print(\"b is greater than a\")\n",
        "elif a == b:\n",
        "  print(\"a and b are equal\")"
      ],
      "metadata": {
        "colab": {
          "base_uri": "https://localhost:8080/"
        },
        "id": "UjZyctEIfnTY",
        "outputId": "fff6110e-4949-4d71-b8d3-d1a3301c53ed"
      },
      "execution_count": null,
      "outputs": [
        {
          "output_type": "stream",
          "name": "stdout",
          "text": [
            "a and b are equal\n"
          ]
        }
      ]
    },
    {
      "cell_type": "markdown",
      "source": [
        "Else\n",
        "The else keyword catches anything which isn't caught by the preceding conditions."
      ],
      "metadata": {
        "id": "R7iODgd3fsup"
      }
    },
    {
      "cell_type": "code",
      "source": [
        "a = 200\n",
        "b = 33\n",
        "if b > a:\n",
        "  print(\"b is greater than a\")\n",
        "elif a == b:\n",
        "  print(\"a and b are equal\")\n",
        "else:\n",
        "  print(\"a is greater than b\")"
      ],
      "metadata": {
        "colab": {
          "base_uri": "https://localhost:8080/"
        },
        "id": "bcNUhPekftIT",
        "outputId": "db9dee13-ee89-4df3-b376-12a5b5bd51cd"
      },
      "execution_count": null,
      "outputs": [
        {
          "output_type": "stream",
          "name": "stdout",
          "text": [
            "a is greater than b\n"
          ]
        }
      ]
    },
    {
      "cell_type": "code",
      "source": [
        "if a > b: print(\"a is greater than b\")"
      ],
      "metadata": {
        "colab": {
          "base_uri": "https://localhost:8080/"
        },
        "id": "ie97swyBf1TE",
        "outputId": "baf15437-94fb-42d4-86f9-78beeb0f42c8"
      },
      "execution_count": null,
      "outputs": [
        {
          "output_type": "stream",
          "name": "stdout",
          "text": [
            "a is greater than b\n"
          ]
        }
      ]
    },
    {
      "cell_type": "code",
      "source": [
        "a = 2\n",
        "b = 330\n",
        "print(\"A\") if a > b else print(\"B\")"
      ],
      "metadata": {
        "colab": {
          "base_uri": "https://localhost:8080/"
        },
        "id": "Q8PbfWb0f1w_",
        "outputId": "b415b15e-2d95-4a15-d25a-35018180319a"
      },
      "execution_count": null,
      "outputs": [
        {
          "output_type": "stream",
          "name": "stdout",
          "text": [
            "B\n"
          ]
        }
      ]
    },
    {
      "cell_type": "code",
      "source": [
        "a = 333\n",
        "b = 333\n",
        "print(\"A\") if a > b else print(\"=\") if a == b else print(\"B\")"
      ],
      "metadata": {
        "colab": {
          "base_uri": "https://localhost:8080/"
        },
        "id": "V2GD70chf91V",
        "outputId": "b0e6fab3-84af-4922-f890-dbd289b4a360"
      },
      "execution_count": 2,
      "outputs": [
        {
          "output_type": "stream",
          "name": "stdout",
          "text": [
            "=\n"
          ]
        }
      ]
    },
    {
      "cell_type": "markdown",
      "source": [
        "And\n",
        "The and keyword is a logical operator, and is used to combine conditional statements:"
      ],
      "metadata": {
        "id": "otvIKVvZgCkZ"
      }
    },
    {
      "cell_type": "code",
      "source": [
        "a = 200\n",
        "b = 33\n",
        "c = 500\n",
        "if a > b and c > a:\n",
        "  print(\"Both conditions are True\")"
      ],
      "metadata": {
        "colab": {
          "base_uri": "https://localhost:8080/"
        },
        "id": "7TQdWc5HgDCI",
        "outputId": "56d32f5f-6de3-4635-f765-7e65e933f332"
      },
      "execution_count": null,
      "outputs": [
        {
          "output_type": "stream",
          "name": "stdout",
          "text": [
            "Both conditions are True\n"
          ]
        }
      ]
    },
    {
      "cell_type": "markdown",
      "source": [
        "Or\n",
        "The or keyword is a logical operator, and is used to combine conditional statements:"
      ],
      "metadata": {
        "id": "JN7JokmPgIXY"
      }
    },
    {
      "cell_type": "code",
      "source": [
        "a = 200\n",
        "b = 33\n",
        "c = 500\n",
        "if a > b or a > c:\n",
        "  print(\"At least one of the conditions is True\")"
      ],
      "metadata": {
        "colab": {
          "base_uri": "https://localhost:8080/"
        },
        "id": "J7lfd6LLgI4Q",
        "outputId": "b164acbc-ef3b-41a0-c567-0002a7276b5d"
      },
      "execution_count": null,
      "outputs": [
        {
          "output_type": "stream",
          "name": "stdout",
          "text": [
            "At least one of the conditions is True\n"
          ]
        }
      ]
    },
    {
      "cell_type": "markdown",
      "source": [
        "Not\n",
        "The not keyword is a logical operator, and is used to reverse the result of the conditional statement:"
      ],
      "metadata": {
        "id": "qIHnHEBfgNWM"
      }
    },
    {
      "cell_type": "code",
      "source": [
        "a = 33\n",
        "b = 200\n",
        "if not a > b:\n",
        "  print(\"a is NOT greater than b\")"
      ],
      "metadata": {
        "colab": {
          "base_uri": "https://localhost:8080/"
        },
        "id": "B0iWPk13gOQH",
        "outputId": "2ef60fad-a8f6-4d22-cdfd-66c036046cdf"
      },
      "execution_count": null,
      "outputs": [
        {
          "output_type": "stream",
          "name": "stdout",
          "text": [
            "a is NOT greater than b\n"
          ]
        }
      ]
    },
    {
      "cell_type": "markdown",
      "source": [
        "Nested If\n",
        "You can have if statements inside if statements, this is called nested if statements."
      ],
      "metadata": {
        "id": "ZvMqIkLKgTsL"
      }
    },
    {
      "cell_type": "code",
      "source": [
        "x = 41\n",
        "\n",
        "if x > 10:\n",
        "  print(\"Above ten,\")\n",
        "  if x > 20:\n",
        "    print(\"and also above 20!\")\n",
        "  else:\n",
        "    print(\"but not above 20.\")"
      ],
      "metadata": {
        "colab": {
          "base_uri": "https://localhost:8080/"
        },
        "id": "zqRXIeksgUgT",
        "outputId": "a7abe833-e13f-4cf8-ab68-7a67703650e0"
      },
      "execution_count": null,
      "outputs": [
        {
          "output_type": "stream",
          "name": "stdout",
          "text": [
            "Above ten,\n",
            "and also above 20!\n"
          ]
        }
      ]
    },
    {
      "cell_type": "markdown",
      "source": [
        "The pass Statement\n",
        "if statements cannot be empty, but if you for some reason have an if statement with no content, put in the pass statement to avoid getting an error."
      ],
      "metadata": {
        "id": "NFU-LmiEgcr_"
      }
    },
    {
      "cell_type": "code",
      "source": [
        "a = 33\n",
        "b = 200\n",
        "\n",
        "if b > a:\n",
        "  pass"
      ],
      "metadata": {
        "id": "MKG03kDkgdE4"
      },
      "execution_count": null,
      "outputs": []
    },
    {
      "cell_type": "markdown",
      "metadata": {
        "id": "Pt3mSgr7njea"
      },
      "source": [
        "break, continue, and pass Statements\n",
        "🔹 break Statement (Stops the loop completely)"
      ]
    },
    {
      "cell_type": "code",
      "execution_count": null,
      "metadata": {
        "colab": {
          "base_uri": "https://localhost:8080/"
        },
        "id": "GvJCu96qnj11",
        "outputId": "d9082803-968e-4bc2-83a0-9fa29deb3b45"
      },
      "outputs": [
        {
          "name": "stdout",
          "output_type": "stream",
          "text": [
            "0\n",
            "1\n",
            "2\n"
          ]
        }
      ],
      "source": [
        "for i in range(5):\n",
        "    if i == 3:\n",
        "        break  # Loop stops when i == 3\n",
        "    print(i)\n"
      ]
    },
    {
      "cell_type": "code",
      "execution_count": null,
      "metadata": {
        "colab": {
          "base_uri": "https://localhost:8080/"
        },
        "id": "Oz7jEkOBnlqm",
        "outputId": "e40ff7f8-fcbd-4f29-8fe4-e4f8c2c0e95d"
      },
      "outputs": [
        {
          "name": "stdout",
          "output_type": "stream",
          "text": [
            "0\n",
            "1\n",
            "2\n",
            "4\n"
          ]
        }
      ],
      "source": [
        "for i in range(5):\n",
        "    if i == 3:\n",
        "        continue  # Skips when i == 3\n",
        "    print(i)\n"
      ]
    },
    {
      "cell_type": "code",
      "execution_count": null,
      "metadata": {
        "colab": {
          "base_uri": "https://localhost:8080/"
        },
        "id": "C8u1gl7EnpNK",
        "outputId": "544a6ba6-3163-4192-d6f9-6f719c4ae0b8"
      },
      "outputs": [
        {
          "name": "stdout",
          "output_type": "stream",
          "text": [
            "0\n",
            "1\n",
            "2\n",
            "3\n",
            "4\n"
          ]
        }
      ],
      "source": [
        "for i in range(5):\n",
        "    if i == 3:\n",
        "        pass  # Does nothing\n",
        "    print(i)\n"
      ]
    },
    {
      "cell_type": "code",
      "execution_count": null,
      "metadata": {
        "id": "uHRv4XflntXw"
      },
      "outputs": [],
      "source": []
    },
    {
      "cell_type": "markdown",
      "metadata": {
        "id": "Yqq2hMFrnyXp"
      },
      "source": [
        "Nested Conditionals"
      ]
    },
    {
      "cell_type": "code",
      "execution_count": null,
      "metadata": {
        "colab": {
          "base_uri": "https://localhost:8080/"
        },
        "id": "-tIoVSRqnyvt",
        "outputId": "3e109862-6c04-462a-ed77-4680d9176931"
      },
      "outputs": [
        {
          "name": "stdout",
          "output_type": "stream",
          "text": [
            "Positive even number\n"
          ]
        }
      ],
      "source": [
        "num = 10\n",
        "\n",
        "if num > 0:\n",
        "    if num % 2 == 0:\n",
        "        print(\"Positive even number\")\n",
        "    else:\n",
        "        print(\"Positive odd number\")\n"
      ]
    },
    {
      "cell_type": "code",
      "execution_count": null,
      "metadata": {
        "id": "LKI8Vcsrn0JB"
      },
      "outputs": [],
      "source": []
    },
    {
      "cell_type": "markdown",
      "metadata": {
        "id": "yk__uuudoW8v"
      },
      "source": [
        "Conditional (Ternary) Expression\n",
        " Shorter way to write if-else."
      ]
    },
    {
      "cell_type": "code",
      "execution_count": null,
      "metadata": {
        "colab": {
          "base_uri": "https://localhost:8080/"
        },
        "id": "wHbk8W4FoXWs",
        "outputId": "88524a6b-8641-4be0-ffdb-1c60bd342cf7"
      },
      "outputs": [
        {
          "name": "stdout",
          "output_type": "stream",
          "text": [
            "Adult\n"
          ]
        }
      ],
      "source": [
        "age = 20\n",
        "status = \"Adult\" if age >= 18 else \"Minor\"\n",
        "print(status)\n"
      ]
    },
    {
      "cell_type": "code",
      "execution_count": null,
      "metadata": {
        "id": "C7gsQnzFoZst"
      },
      "outputs": [],
      "source": []
    },
    {
      "cell_type": "markdown",
      "metadata": {
        "id": "xwnlIZbNoghc"
      },
      "source": [
        "Loops in Python\n",
        " while Loop (Runs until condition is false)"
      ]
    },
    {
      "cell_type": "code",
      "execution_count": null,
      "metadata": {
        "colab": {
          "base_uri": "https://localhost:8080/"
        },
        "id": "5DYW34D1og3x",
        "outputId": "c8b312a7-04a0-4b16-afd4-b9c60415c171"
      },
      "outputs": [
        {
          "name": "stdout",
          "output_type": "stream",
          "text": [
            "1\n",
            "2\n",
            "3\n",
            "4\n",
            "5\n"
          ]
        }
      ],
      "source": [
        "x = 1\n",
        "while x <= 5:\n",
        "    print(x)\n",
        "    x += 1\n"
      ]
    },
    {
      "cell_type": "markdown",
      "source": [
        "The break Statement\n",
        "With the break statement we can stop the loop even if the while condition is true:"
      ],
      "metadata": {
        "id": "pL1FXPdZg_x4"
      }
    },
    {
      "cell_type": "code",
      "source": [
        "i = 1\n",
        "while i < 6:\n",
        "  print(i)\n",
        "  if i == 3:\n",
        "    break\n",
        "  i += 1"
      ],
      "metadata": {
        "colab": {
          "base_uri": "https://localhost:8080/"
        },
        "id": "-s6Lqk6khAMX",
        "outputId": "0c6e2ff4-d66c-4779-ed7e-3d963d113680"
      },
      "execution_count": null,
      "outputs": [
        {
          "output_type": "stream",
          "name": "stdout",
          "text": [
            "1\n",
            "2\n",
            "3\n"
          ]
        }
      ]
    },
    {
      "cell_type": "markdown",
      "source": [
        "The continue Statement\n",
        "With the continue statement we can stop the current iteration, and continue with the next:"
      ],
      "metadata": {
        "id": "3zrVyOWchJyj"
      }
    },
    {
      "cell_type": "code",
      "source": [
        "i = 0\n",
        "while i < 6:\n",
        "  i += 1\n",
        "  if i == 3:\n",
        "    continue\n",
        "  print(i)"
      ],
      "metadata": {
        "colab": {
          "base_uri": "https://localhost:8080/"
        },
        "id": "AOSN-L20hKMG",
        "outputId": "b7f3a329-ce9f-4140-d689-68f2d25fcfc5"
      },
      "execution_count": null,
      "outputs": [
        {
          "output_type": "stream",
          "name": "stdout",
          "text": [
            "1\n",
            "2\n",
            "4\n",
            "5\n",
            "6\n"
          ]
        }
      ]
    },
    {
      "cell_type": "markdown",
      "source": [
        "The else Statement\n",
        "With the else statement we can run a block of code once when the condition no longer is true:"
      ],
      "metadata": {
        "id": "uRGGHa1KhPi0"
      }
    },
    {
      "cell_type": "code",
      "source": [
        "i = 1\n",
        "while i < 6:\n",
        "  print(i)\n",
        "  i += 1\n",
        "else:\n",
        "  print(\"i is no longer less than 6\")"
      ],
      "metadata": {
        "colab": {
          "base_uri": "https://localhost:8080/"
        },
        "id": "RkbPKhZdhP_m",
        "outputId": "668113bd-bd97-4e29-8dd9-0574150c8a81"
      },
      "execution_count": null,
      "outputs": [
        {
          "output_type": "stream",
          "name": "stdout",
          "text": [
            "1\n",
            "2\n",
            "3\n",
            "4\n",
            "5\n",
            "i is no longer less than 6\n"
          ]
        }
      ]
    },
    {
      "cell_type": "code",
      "execution_count": null,
      "metadata": {
        "colab": {
          "base_uri": "https://localhost:8080/"
        },
        "id": "aF4RtaeDokjT",
        "outputId": "e1426a73-7160-4302-a9bc-edfadffd2ef0"
      },
      "outputs": [
        {
          "name": "stdout",
          "output_type": "stream",
          "text": [
            "apple\n",
            "banana\n",
            "cherry\n"
          ]
        }
      ],
      "source": [
        "fruits = [\"apple\", \"banana\", \"cherry\"]\n",
        "for fruit in fruits:\n",
        "    print(fruit)\n"
      ]
    },
    {
      "cell_type": "code",
      "execution_count": null,
      "metadata": {
        "id": "KXVFQNTAoqQu"
      },
      "outputs": [],
      "source": []
    },
    {
      "cell_type": "markdown",
      "metadata": {
        "id": "WvlOxfYVovU8"
      },
      "source": [
        "enumerate() Function\n",
        "Used in loops to get both index and value."
      ]
    },
    {
      "cell_type": "code",
      "execution_count": null,
      "metadata": {
        "colab": {
          "base_uri": "https://localhost:8080/"
        },
        "id": "UA23kg-TovqM",
        "outputId": "4aeb33d3-1d8b-422f-caa1-7701c5be78f8"
      },
      "outputs": [
        {
          "name": "stdout",
          "output_type": "stream",
          "text": [
            "0 apple\n",
            "1 banana\n",
            "2 cherry\n"
          ]
        }
      ],
      "source": [
        "fruits = [\"apple\", \"banana\", \"cherry\"]\n",
        "for index, fruit in enumerate(fruits):\n",
        "    print(index, fruit)\n"
      ]
    },
    {
      "cell_type": "code",
      "execution_count": null,
      "metadata": {
        "id": "t7-n7_5roxN9"
      },
      "outputs": [],
      "source": []
    },
    {
      "cell_type": "markdown",
      "metadata": {
        "id": "aZfpIZrHo2k1"
      },
      "source": [
        "Nested Loops\n",
        " A loop inside another loop.\n",
        "\n",
        "python\n",
        "Copy\n",
        "Edit\n"
      ]
    },
    {
      "cell_type": "code",
      "execution_count": null,
      "metadata": {
        "colab": {
          "base_uri": "https://localhost:8080/"
        },
        "id": "CDXwo55uo28V",
        "outputId": "17a1611a-2d1c-4604-a8e5-576fbdd10c07"
      },
      "outputs": [
        {
          "name": "stdout",
          "output_type": "stream",
          "text": [
            "i = 0, j = 0\n",
            "i = 0, j = 1\n",
            "i = 1, j = 0\n",
            "i = 1, j = 1\n",
            "i = 2, j = 0\n",
            "i = 2, j = 1\n"
          ]
        }
      ],
      "source": [
        "for i in range(3):\n",
        "    for j in range(2):\n",
        "        print(f\"i = {i}, j = {j}\")\n"
      ]
    },
    {
      "cell_type": "code",
      "execution_count": null,
      "metadata": {
        "id": "kNuYeXepo4U1",
        "colab": {
          "base_uri": "https://localhost:8080/"
        },
        "outputId": "74444c32-12ce-4ed2-ab0c-fd50debf596f"
      },
      "outputs": [
        {
          "output_type": "stream",
          "name": "stdout",
          "text": [
            "b\n",
            "a\n",
            "n\n",
            "a\n",
            "n\n",
            "a\n"
          ]
        }
      ],
      "source": [
        "for x in \"banana\":\n",
        "  print(x)"
      ]
    },
    {
      "cell_type": "code",
      "source": [
        "fruits = [\"apple\", \"banana\", \"cherry\"]\n",
        "for x in fruits:\n",
        "  print(x)\n",
        "  if x == \"banana\":\n",
        "    break"
      ],
      "metadata": {
        "colab": {
          "base_uri": "https://localhost:8080/"
        },
        "id": "NuR_IBvbha8b",
        "outputId": "3e5e4164-347b-4407-ce0a-64cb3f4a57c2"
      },
      "execution_count": null,
      "outputs": [
        {
          "output_type": "stream",
          "name": "stdout",
          "text": [
            "apple\n",
            "banana\n"
          ]
        }
      ]
    },
    {
      "cell_type": "code",
      "source": [
        "fruits = [\"apple\", \"banana\", \"cherry\"]\n",
        "for x in fruits:\n",
        "  if x == \"banana\":\n",
        "    break\n",
        "  print(x)"
      ],
      "metadata": {
        "colab": {
          "base_uri": "https://localhost:8080/"
        },
        "id": "p-WTbjPIhhXa",
        "outputId": "c210d4a8-9968-43e5-e397-bcccc7c2a7bd"
      },
      "execution_count": null,
      "outputs": [
        {
          "output_type": "stream",
          "name": "stdout",
          "text": [
            "apple\n"
          ]
        }
      ]
    },
    {
      "cell_type": "code",
      "source": [
        "fruits = [\"apple\", \"banana\", \"cherry\"]\n",
        "for x in fruits:\n",
        "  if x == \"banana\":\n",
        "    continue\n",
        "  print(x)"
      ],
      "metadata": {
        "colab": {
          "base_uri": "https://localhost:8080/"
        },
        "id": "FYs13uPnhj-W",
        "outputId": "f52426b9-6737-4aea-cb99-3ccae65bdc7a"
      },
      "execution_count": null,
      "outputs": [
        {
          "output_type": "stream",
          "name": "stdout",
          "text": [
            "apple\n",
            "cherry\n"
          ]
        }
      ]
    },
    {
      "cell_type": "code",
      "source": [
        "adj = [\"red\", \"big\", \"tasty\"]\n",
        "fruits = [\"apple\", \"banana\", \"cherry\"]\n",
        "\n",
        "for x in adj:\n",
        "  for y in fruits:\n",
        "    print(x, y)"
      ],
      "metadata": {
        "colab": {
          "base_uri": "https://localhost:8080/"
        },
        "id": "BMnKl8hMhumn",
        "outputId": "7c5da93c-3d94-42c8-d90e-097c09e7ba28"
      },
      "execution_count": null,
      "outputs": [
        {
          "output_type": "stream",
          "name": "stdout",
          "text": [
            "red apple\n",
            "red banana\n",
            "red cherry\n",
            "big apple\n",
            "big banana\n",
            "big cherry\n",
            "tasty apple\n",
            "tasty banana\n",
            "tasty cherry\n"
          ]
        }
      ]
    },
    {
      "cell_type": "markdown",
      "metadata": {
        "id": "3Y7b4o0lpzxs"
      },
      "source": [
        "List Comprehension\n",
        " Shorter way to create lists."
      ]
    },
    {
      "cell_type": "code",
      "execution_count": 3,
      "metadata": {
        "colab": {
          "base_uri": "https://localhost:8080/"
        },
        "id": "iuEL6U3Dp0OC",
        "outputId": "833d95eb-a78c-4c1e-cc66-3f636da4dcac"
      },
      "outputs": [
        {
          "output_type": "stream",
          "name": "stdout",
          "text": [
            "[0, 2, 4, 6, 8]\n"
          ]
        }
      ],
      "source": [
        "numbers = [x for x in range(10) if x % 2 == 0]\n",
        "print(numbers)\n"
      ]
    },
    {
      "cell_type": "code",
      "execution_count": null,
      "metadata": {
        "id": "2admLS_jp1ta"
      },
      "outputs": [],
      "source": []
    },
    {
      "cell_type": "markdown",
      "metadata": {
        "id": "h_4kkDhIp4vv"
      },
      "source": [
        "Iterators and Iterables\n",
        "Iterable → Any object that can be looped over (list, tuple, set).\n",
        "Iterator → An object that produces values one at a time using next()."
      ]
    },
    {
      "cell_type": "code",
      "execution_count": null,
      "metadata": {
        "colab": {
          "base_uri": "https://localhost:8080/"
        },
        "id": "z3x5nmHQp5H5",
        "outputId": "8694b07f-5ab4-46cb-ae8e-ff15117b86f6"
      },
      "outputs": [
        {
          "name": "stdout",
          "output_type": "stream",
          "text": [
            "10\n",
            "20\n",
            "30\n"
          ]
        }
      ],
      "source": [
        "my_list = [10, 20, 30]\n",
        "iterator = iter(my_list)\n",
        "\n",
        "print(next(iterator))\n",
        "print(next(iterator))\n",
        "print(next(iterator))\n"
      ]
    },
    {
      "cell_type": "code",
      "execution_count": null,
      "metadata": {
        "id": "wJkDD5Zhp7Dg"
      },
      "outputs": [],
      "source": []
    },
    {
      "cell_type": "markdown",
      "source": [
        "Tasks: 1\n",
        "Take a student's marks as input and assign a grade based on this range:\n",
        "90-100: A  \n",
        "80-89: B  \n",
        "70-79: C  \n",
        "60-69: D  \n",
        "Below 60: F\n",
        "\n"
      ],
      "metadata": {
        "id": "l-GlsPWhiPdO"
      }
    },
    {
      "cell_type": "code",
      "source": [],
      "metadata": {
        "id": "6Z5KquSxiTt8"
      },
      "execution_count": null,
      "outputs": []
    },
    {
      "cell_type": "markdown",
      "source": [
        "Task2: Take a year as input and check if it's a leap year using the rules:\n",
        "Divisible by 4\n",
        "Not divisible by 100 unless also divisible by 400"
      ],
      "metadata": {
        "id": "kSAOQ1mLiUXl"
      }
    },
    {
      "cell_type": "code",
      "source": [],
      "metadata": {
        "id": "qL07eniDiYZZ"
      },
      "execution_count": null,
      "outputs": []
    },
    {
      "cell_type": "markdown",
      "source": [
        "Task3:\n",
        "Print Numbers 1 to N\n",
        "\n",
        "Take an integer N from the user and print numbers from 1 to N."
      ],
      "metadata": {
        "id": "9vILqflcibvT"
      }
    },
    {
      "cell_type": "code",
      "source": [],
      "metadata": {
        "id": "KJMjJBnSicnt"
      },
      "execution_count": null,
      "outputs": []
    },
    {
      "cell_type": "markdown",
      "source": [
        "Task 4:\n",
        "Take a number as input and print its multiplication table up to 10."
      ],
      "metadata": {
        "id": "cmC17NdHifbr"
      }
    },
    {
      "cell_type": "code",
      "source": [],
      "metadata": {
        "id": "YGm0BD4_igfF"
      },
      "execution_count": null,
      "outputs": []
    },
    {
      "cell_type": "markdown",
      "source": [
        "Task 5:\n",
        "Generate a random number and let the user guess it in a loop until they get it right."
      ],
      "metadata": {
        "id": "KAK7Jm5PikK_"
      }
    },
    {
      "cell_type": "code",
      "source": [],
      "metadata": {
        "id": "Dysg-MBzik6V"
      },
      "execution_count": null,
      "outputs": []
    },
    {
      "cell_type": "markdown",
      "source": [
        "Task 6 ⁉Take a number as input and check if it is prime using a while loop."
      ],
      "metadata": {
        "id": "K7h6-IGNini3"
      }
    },
    {
      "cell_type": "code",
      "source": [],
      "metadata": {
        "id": "KM7quHlFiocz"
      },
      "execution_count": null,
      "outputs": []
    },
    {
      "cell_type": "markdown",
      "source": [
        "Task 7 🇰Take a number as input and find the sum of its digits using a while loop."
      ],
      "metadata": {
        "id": "yNjIFlljirZA"
      }
    },
    {
      "cell_type": "code",
      "source": [
        "# task 1\n",
        "\n",
        "marks = int(input(\"Enter student's marks: \"))\n",
        "\n",
        "\n",
        "if 0 <= marks <= 100:\n",
        "    if 90 <= marks <= 100:\n",
        "        grade = \"A\"\n",
        "    elif 80 <= marks <= 89:\n",
        "        grade = \"B\"\n",
        "    elif 70 <= marks <= 79:\n",
        "        grade = \"C\"\n",
        "    elif 60 <= marks <= 69:\n",
        "        grade = \"D\"\n",
        "    else:\n",
        "        grade = \"F\"\n",
        "\n",
        "    print(f\"The student's grade is: {grade}\")\n",
        "else:\n",
        "    print(\"Invalid marks! Please enter a value between 0 and 100.\")\n"
      ],
      "metadata": {
        "colab": {
          "base_uri": "https://localhost:8080/"
        },
        "id": "rNS5LZwvisTD",
        "outputId": "2c929149-3e19-4834-f2a9-ab0617f91b2b"
      },
      "execution_count": null,
      "outputs": [
        {
          "output_type": "stream",
          "name": "stdout",
          "text": [
            "Enter student's marks: 60\n",
            "The student's grade is: D\n"
          ]
        }
      ]
    },
    {
      "cell_type": "code",
      "source": [
        "# task 2\n",
        "\n",
        "year = int(input(\"Enter a year: \"))\n",
        "\n",
        "\n",
        "if (year % 4 == 0 and year % 100 != 0) or (year % 400 == 0):\n",
        "    print(f\"{year} is a leap year.\")\n",
        "else:\n",
        "    print(f\"{year} is not a leap year.\")\n"
      ],
      "metadata": {
        "colab": {
          "base_uri": "https://localhost:8080/"
        },
        "id": "vYJOD-9xi6vg",
        "outputId": "789a5dd0-f7a3-4034-d422-2b7c7d3f5639"
      },
      "execution_count": null,
      "outputs": [
        {
          "output_type": "stream",
          "name": "stdout",
          "text": [
            "Enter a year: 2020\n",
            "2020 is a leap year.\n"
          ]
        }
      ]
    },
    {
      "cell_type": "code",
      "source": [
        "# task 3\n",
        "\n",
        "N = int(input(\"Enter a number: \"))\n",
        "\n",
        "\n",
        "for i in range(1, N + 1):\n",
        "    print(i)"
      ],
      "metadata": {
        "colab": {
          "base_uri": "https://localhost:8080/"
        },
        "id": "HwuMv4hHjFCM",
        "outputId": "6baf51a2-4628-46b2-92fc-88964940252b"
      },
      "execution_count": null,
      "outputs": [
        {
          "output_type": "stream",
          "name": "stdout",
          "text": [
            "Enter a number: 3\n",
            "1\n",
            "2\n",
            "3\n"
          ]
        }
      ]
    },
    {
      "cell_type": "code",
      "source": [
        "# task 4\n",
        "\n",
        "num = int(input(\"Enter a number: \"))\n",
        "\n",
        "\n",
        "for i in range(1, 11):\n",
        "    print(f\"{num} x {i} = {num * i}\")"
      ],
      "metadata": {
        "colab": {
          "base_uri": "https://localhost:8080/"
        },
        "id": "9XAlbOlejMYg",
        "outputId": "ea551db0-d1e8-4917-c3e1-7c2277ad1c58"
      },
      "execution_count": null,
      "outputs": [
        {
          "output_type": "stream",
          "name": "stdout",
          "text": [
            "Enter a number: 7\n",
            "7 x 1 = 7\n",
            "7 x 2 = 14\n",
            "7 x 3 = 21\n",
            "7 x 4 = 28\n",
            "7 x 5 = 35\n",
            "7 x 6 = 42\n",
            "7 x 7 = 49\n",
            "7 x 8 = 56\n",
            "7 x 9 = 63\n",
            "7 x 10 = 70\n"
          ]
        }
      ]
    },
    {
      "cell_type": "code",
      "source": [
        "# task 5\n",
        "import random\n",
        "\n",
        "\n",
        "random_number = random.randint(1, 100)\n",
        "\n",
        "\n",
        "while True:\n",
        "    guess = int(input(\"Guess the number (between 1 and 100): \"))\n",
        "\n",
        "    if guess < random_number:\n",
        "        print(\"Too low! Try again.\")\n",
        "    elif guess > random_number:\n",
        "        print(\"Too high! Try again.\")\n",
        "    else:\n",
        "        print(\"Congratulations! You guessed the right number.\")\n",
        "        break"
      ],
      "metadata": {
        "colab": {
          "base_uri": "https://localhost:8080/"
        },
        "id": "WAYPNW4vjU88",
        "outputId": "7f067ee8-42ee-4f98-9d4a-46f5145e1465"
      },
      "execution_count": null,
      "outputs": [
        {
          "output_type": "stream",
          "name": "stdout",
          "text": [
            "Guess the number (between 1 and 100): 6\n",
            "Too low! Try again.\n",
            "Guess the number (between 1 and 100): 5\n",
            "Too low! Try again.\n",
            "Guess the number (between 1 and 100): 4\n",
            "Too low! Try again.\n",
            "Guess the number (between 1 and 100): 3\n",
            "Too low! Try again.\n",
            "Guess the number (between 1 and 100): 2\n",
            "Too low! Try again.\n",
            "Guess the number (between 1 and 100): 6\n",
            "Too low! Try again.\n",
            "Guess the number (between 1 and 100): 50\n",
            "Too high! Try again.\n",
            "Guess the number (between 1 and 100): 40\n",
            "Too high! Try again.\n",
            "Guess the number (between 1 and 100): 30\n",
            "Too low! Try again.\n",
            "Guess the number (between 1 and 100): 35\n",
            "Too high! Try again.\n",
            "Guess the number (between 1 and 100): 34\n",
            "Too high! Try again.\n",
            "Guess the number (between 1 and 100): 33\n",
            "Congratulations! You guessed the right number.\n"
          ]
        }
      ]
    },
    {
      "cell_type": "code",
      "source": [
        "# task 6\n",
        "\n",
        "num = int(input(\"Enter a number: \"))\n",
        "\n",
        "\n",
        "if num < 2:\n",
        "    print(f\"{num} is not a prime number.\")\n",
        "else:\n",
        "    i = 2\n",
        "    is_prime = True\n",
        "    while i * i <= num:\n",
        "        if num % i == 0:\n",
        "            is_prime = False\n",
        "            break\n",
        "        i += 1\n",
        "\n",
        "    if is_prime:\n",
        "        print(f\"{num} is a prime number.\")\n",
        "    else:\n",
        "        print(f\"{num} is not a prime number.\")"
      ],
      "metadata": {
        "colab": {
          "base_uri": "https://localhost:8080/"
        },
        "id": "YO-EQiEijdP-",
        "outputId": "935aa0c5-0438-4b58-822f-4dfda0f7ed31"
      },
      "execution_count": null,
      "outputs": [
        {
          "output_type": "stream",
          "name": "stdout",
          "text": [
            "Enter a number: 32\n",
            "32 is not a prime number.\n"
          ]
        }
      ]
    },
    {
      "cell_type": "code",
      "source": [
        "# task 7\n",
        "\n",
        "num = int(input(\"Enter a number: \"))\n",
        "\n",
        "\n",
        "sum_of_digits = 0\n",
        "while num > 0:\n",
        "    sum_of_digits += num % 10\n",
        "    num //= 10\n",
        "\n",
        "print(f\"Sum of digits: {sum_of_digits}\")"
      ],
      "metadata": {
        "colab": {
          "base_uri": "https://localhost:8080/"
        },
        "id": "Lpyrx3ArjrXh",
        "outputId": "25bcde12-0260-43f6-e90d-e8964b98a0c7"
      },
      "execution_count": null,
      "outputs": [
        {
          "output_type": "stream",
          "name": "stdout",
          "text": [
            "Enter a number: 3\n",
            "Sum of digits: 3\n"
          ]
        }
      ]
    },
    {
      "cell_type": "code",
      "source": [],
      "metadata": {
        "id": "4JWnWQC4jznl"
      },
      "execution_count": null,
      "outputs": []
    }
  ],
  "metadata": {
    "colab": {
      "provenance": [],
      "authorship_tag": "ABX9TyOkbm4blJJtw1zgtp3grF0y",
      "include_colab_link": true
    },
    "kernelspec": {
      "display_name": "Python 3",
      "name": "python3"
    },
    "language_info": {
      "name": "python"
    }
  },
  "nbformat": 4,
  "nbformat_minor": 0
}