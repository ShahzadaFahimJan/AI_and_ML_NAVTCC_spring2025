{
  "nbformat": 4,
  "nbformat_minor": 0,
  "metadata": {
    "colab": {
      "provenance": [],
      "authorship_tag": "ABX9TyNvTLl/7ACuXCS6ew0GN98Y",
      "include_colab_link": true
    },
    "kernelspec": {
      "name": "python3",
      "display_name": "Python 3"
    },
    "language_info": {
      "name": "python"
    }
  },
  "cells": [
    {
      "cell_type": "markdown",
      "metadata": {
        "id": "view-in-github",
        "colab_type": "text"
      },
      "source": [
        "<a href=\"https://colab.research.google.com/github/ShahzadaFahimJan/AI_and_ML_NAVTCC_spring2025/blob/main/Ai_week2_day4.ipynb\" target=\"_parent\"><img src=\"https://colab.research.google.com/assets/colab-badge.svg\" alt=\"Open In Colab\"/></a>"
      ]
    },
    {
      "cell_type": "code",
      "execution_count": 9,
      "metadata": {
        "id": "THltKUAeu12M"
      },
      "outputs": [],
      "source": []
    },
    {
      "cell_type": "markdown",
      "source": [
        "Structured and unstructred data"
      ],
      "metadata": {
        "id": "DUmejlINjqFu"
      }
    },
    {
      "cell_type": "code",
      "source": [
        "# Example of structured data (using Pandas)\n",
        "import pandas as pd\n",
        "\n",
        "structured_data = pd.DataFrame({\n",
        "    \"ID\": [1, 2, 3, 4],\n",
        "    \"Name\": [\"Alice\", \"Bob\", \"Charlie\", \"David\"],\n",
        "    \"Age\": [25, 30, 35, 40],\n",
        "    \"Salary\": [50000, 60000, 70000, 80000]\n",
        "})\n",
        "\n",
        "print(\"Structured Data:\\n\", structured_data)\n",
        "\n",
        "# Example of unstructured data (text data)\n",
        "unstructured_text = \"\"\"\n",
        "Alice is 25 years old and earns $50,000.\n",
        "Bob is 30 years old and earns $60,000.\n",
        "Charlie is 35 years old and earns $70,000.\n",
        "\"\"\"\n",
        "print(\"\\nUnstructured Data:\\n\", unstructured_text)\n"
      ],
      "metadata": {
        "colab": {
          "base_uri": "https://localhost:8080/"
        },
        "id": "muZP59ETjr87",
        "outputId": "bfc9b6d7-dd96-4a0a-bcd4-71da36816c79"
      },
      "execution_count": 3,
      "outputs": [
        {
          "output_type": "stream",
          "name": "stdout",
          "text": [
            "Structured Data:\n",
            "    ID     Name  Age  Salary\n",
            "0   1    Alice   25   50000\n",
            "1   2      Bob   30   60000\n",
            "2   3  Charlie   35   70000\n",
            "3   4    David   40   80000\n",
            "\n",
            "Unstructured Data:\n",
            " \n",
            "Alice is 25 years old and earns $50,000.\n",
            "Bob is 30 years old and earns $60,000.\n",
            "Charlie is 35 years old and earns $70,000.\n",
            "\n"
          ]
        }
      ]
    },
    {
      "cell_type": "markdown",
      "source": [
        "Quantitative Data"
      ],
      "metadata": {
        "id": "uzXQDFo5jVeC"
      }
    },
    {
      "cell_type": "code",
      "source": [
        "import numpy as np\n",
        "\n",
        "# Continuous Data Example (Height in cm)\n",
        "heights = np.array([170.5, 165.2, 180.3, 155.8, 172.0])\n",
        "\n",
        "# Discrete Data Example (Number of students in a class)\n",
        "students = np.array([25, 30, 28, 32, 27])\n",
        "\n",
        "print(\"Mean height:\", np.mean(heights))\n",
        "print(\"Total students:\", np.sum(students))\n"
      ],
      "metadata": {
        "colab": {
          "base_uri": "https://localhost:8080/"
        },
        "id": "0q0MLyKAjGVR",
        "outputId": "053596e4-7869-4c53-d476-fcb285a1ed6e"
      },
      "execution_count": 10,
      "outputs": [
        {
          "output_type": "stream",
          "name": "stdout",
          "text": [
            "Mean height: 168.76\n",
            "Total students: 142\n"
          ]
        }
      ]
    },
    {
      "cell_type": "markdown",
      "source": [
        "Qualitative Data"
      ],
      "metadata": {
        "id": "sAhxIJAAjZlv"
      }
    },
    {
      "cell_type": "code",
      "source": [
        "import pandas as pd\n",
        "\n",
        "# Creating a categorical dataset\n",
        "data = {\n",
        "    'Color': ['Red', 'Blue', 'Green', 'Red', 'Blue'],\n",
        "    'Rating': ['Good', 'Excellent', 'Poor', 'Average', 'Good'],\n",
        "    'Binary': [1, 0, 1, 0, 1]  # Binary (1 = Yes, 0 = No)\n",
        "}\n",
        "\n",
        "df = pd.DataFrame(data)\n",
        "df['Rating'] = pd.Categorical(df['Rating'], categories=['Poor', 'Average', 'Good', 'Excellent'], ordered=True)\n",
        "\n",
        "print(df)\n",
        "print(\"\\nOrdinal Encoding for Rating:\\n\", df['Rating'].cat.codes)\n"
      ],
      "metadata": {
        "colab": {
          "base_uri": "https://localhost:8080/"
        },
        "id": "ojEnOs_Ljbxj",
        "outputId": "67396edb-b191-4eed-fc91-b9053c4e35c7"
      },
      "execution_count": 2,
      "outputs": [
        {
          "output_type": "stream",
          "name": "stdout",
          "text": [
            "   Color     Rating  Binary\n",
            "0    Red       Good       1\n",
            "1   Blue  Excellent       0\n",
            "2  Green       Poor       1\n",
            "3    Red    Average       0\n",
            "4   Blue       Good       1\n",
            "\n",
            "Ordinal Encoding for Rating:\n",
            " 0    2\n",
            "1    3\n",
            "2    0\n",
            "3    1\n",
            "4    2\n",
            "dtype: int8\n"
          ]
        }
      ]
    },
    {
      "cell_type": "markdown",
      "source": [
        "Nominal Data"
      ],
      "metadata": {
        "id": "wD80mck6jTCl"
      }
    },
    {
      "cell_type": "code",
      "source": [
        "import pandas as pd\n",
        "\n",
        "# Creating a dataset with nominal data (categories without order)\n",
        "data_nominal = {\n",
        "    \"Name\": [\"Alice\", \"Bob\", \"Charlie\", \"David\"],\n",
        "    \"Color\": [\"Red\", \"Blue\", \"Green\", \"Red\"],  # Nominal Data (No Order)\n",
        "    \"Gender\": [\"Female\", \"Male\", \"Male\", \"Male\"]\n",
        "}\n",
        "\n",
        "df_nominal = pd.DataFrame(data_nominal)\n",
        "print(\"Nominal Data:\\n\", df_nominal)\n"
      ],
      "metadata": {
        "colab": {
          "base_uri": "https://localhost:8080/"
        },
        "id": "1lvQ5MMhkAZT",
        "outputId": "656c3372-c429-4403-ae84-c2e4fd18ae13"
      },
      "execution_count": 4,
      "outputs": [
        {
          "output_type": "stream",
          "name": "stdout",
          "text": [
            "Nominal Data:\n",
            "       Name  Color  Gender\n",
            "0    Alice    Red  Female\n",
            "1      Bob   Blue    Male\n",
            "2  Charlie  Green    Male\n",
            "3    David    Red    Male\n"
          ]
        }
      ]
    },
    {
      "cell_type": "code",
      "source": [],
      "metadata": {
        "id": "-4tum66JkBTp"
      },
      "execution_count": null,
      "outputs": []
    },
    {
      "cell_type": "markdown",
      "source": [
        "Ordinal Data"
      ],
      "metadata": {
        "id": "PyWL6RPAkCEH"
      }
    },
    {
      "cell_type": "code",
      "source": [
        "# Creating an ordered categorical variable (Ordinal Data)\n",
        "data_ordinal = {\n",
        "    \"Name\": [\"Alice\", \"Bob\", \"Charlie\", \"David\"],\n",
        "    \"Education_Level\": [\"Bachelor\", \"Master\", \"PhD\", \"High School\"]  # Ordered data\n",
        "}\n",
        "\n",
        "df_ordinal = pd.DataFrame(data_ordinal)\n",
        "\n",
        "# Defining order for categorical data\n",
        "education_order = [\"High School\", \"Bachelor\", \"Master\", \"PhD\"]\n",
        "df_ordinal[\"Education_Level\"] = pd.Categorical(df_ordinal[\"Education_Level\"], categories=education_order, ordered=True)\n",
        "\n",
        "print(\"\\nOrdinal Data:\\n\", df_ordinal)\n",
        "print(\"\\nOrdinal Encoding:\\n\", df_ordinal[\"Education_Level\"].cat.codes)\n"
      ],
      "metadata": {
        "colab": {
          "base_uri": "https://localhost:8080/"
        },
        "id": "S7qBItjukDrc",
        "outputId": "f13f31d9-7430-4079-83c9-b93448ec2b4b"
      },
      "execution_count": 5,
      "outputs": [
        {
          "output_type": "stream",
          "name": "stdout",
          "text": [
            "\n",
            "Ordinal Data:\n",
            "       Name Education_Level\n",
            "0    Alice        Bachelor\n",
            "1      Bob          Master\n",
            "2  Charlie             PhD\n",
            "3    David     High School\n",
            "\n",
            "Ordinal Encoding:\n",
            " 0    1\n",
            "1    2\n",
            "2    3\n",
            "3    0\n",
            "dtype: int8\n"
          ]
        }
      ]
    },
    {
      "cell_type": "code",
      "source": [],
      "metadata": {
        "id": "YbAU78GokEvr"
      },
      "execution_count": null,
      "outputs": []
    },
    {
      "cell_type": "markdown",
      "source": [
        "Binary Data"
      ],
      "metadata": {
        "id": "GVbrxvOEkHL6"
      }
    },
    {
      "cell_type": "code",
      "source": [
        "# Binary data (Two categories: 0 or 1, Yes or No)\n",
        "data_binary = {\n",
        "    \"Name\": [\"Alice\", \"Bob\", \"Charlie\", \"David\"],\n",
        "    \"Has_Driving_License\": [1, 0, 1, 1]  # 1 = Yes, 0 = No\n",
        "}\n",
        "\n",
        "df_binary = pd.DataFrame(data_binary)\n",
        "print(\"\\nBinary Data:\\n\", df_binary)\n"
      ],
      "metadata": {
        "colab": {
          "base_uri": "https://localhost:8080/"
        },
        "id": "I5ZHL2X-kIO5",
        "outputId": "c6862b60-a2b1-46a8-c29d-34cbe10d8f93"
      },
      "execution_count": 6,
      "outputs": [
        {
          "output_type": "stream",
          "name": "stdout",
          "text": [
            "\n",
            "Binary Data:\n",
            "       Name  Has_Driving_License\n",
            "0    Alice                    1\n",
            "1      Bob                    0\n",
            "2  Charlie                    1\n",
            "3    David                    1\n"
          ]
        }
      ]
    },
    {
      "cell_type": "code",
      "source": [],
      "metadata": {
        "id": "Z4sux144kIfU"
      },
      "execution_count": null,
      "outputs": []
    },
    {
      "cell_type": "markdown",
      "source": [
        "Mean\n"
      ],
      "metadata": {
        "id": "t6MPuvLPla0p"
      }
    },
    {
      "cell_type": "code",
      "source": [
        "# Sample dataset\n",
        "data_mean = [10, 20, 30, 40, 50]\n",
        "\n",
        "# Calculating mean\n",
        "mean_value = sum(data_mean) / len(data_mean)\n",
        "print(\"Mean:\", mean_value)\n"
      ],
      "metadata": {
        "colab": {
          "base_uri": "https://localhost:8080/"
        },
        "id": "KFWAi7bVlbca",
        "outputId": "03e17dd8-e2e6-4a75-e316-8cdd498239d3"
      },
      "execution_count": 7,
      "outputs": [
        {
          "output_type": "stream",
          "name": "stdout",
          "text": [
            "Mean: 30.0\n"
          ]
        }
      ]
    },
    {
      "cell_type": "code",
      "source": [],
      "metadata": {
        "id": "_6NskQh7lbtr"
      },
      "execution_count": null,
      "outputs": []
    },
    {
      "cell_type": "markdown",
      "source": [
        "Meadian"
      ],
      "metadata": {
        "id": "mMERNpmklij1"
      }
    },
    {
      "cell_type": "code",
      "source": [
        "import numpy as np\n",
        "\n",
        "# Odd count dataset\n",
        "data_median_odd = [5, 10, 15, 20, 25]\n",
        "median_odd = np.median(data_median_odd)\n",
        "print(\"Median (Odd Count):\", median_odd)\n",
        "\n",
        "# Even count dataset\n",
        "data_median_even = [3, 6, 9, 12, 15, 18]\n",
        "median_even = np.median(data_median_even)\n",
        "print(\"Median (Even Count):\", median_even)\n"
      ],
      "metadata": {
        "colab": {
          "base_uri": "https://localhost:8080/"
        },
        "id": "VTeljS7KljO5",
        "outputId": "66ff8a20-0184-4315-a3b8-a97cfdc1b924"
      },
      "execution_count": 8,
      "outputs": [
        {
          "output_type": "stream",
          "name": "stdout",
          "text": [
            "Median (Odd Count): 15.0\n",
            "Median (Even Count): 10.5\n"
          ]
        }
      ]
    },
    {
      "cell_type": "code",
      "source": [],
      "metadata": {
        "id": "tUm8g2uRljeO"
      },
      "execution_count": null,
      "outputs": []
    },
    {
      "cell_type": "markdown",
      "source": [
        "Mode"
      ],
      "metadata": {
        "id": "HyW7cbGJlpy9"
      }
    },
    {
      "cell_type": "code",
      "source": [
        "import statistics\n",
        "\n",
        "# Dataset example\n",
        "data_mode = [7, 8, 8, 10, 12, 12, 12, 15, 18]\n",
        "\n",
        "# Using statistics.multimode to capture multiple modes if they exist.\n",
        "mode_values = statistics.multimode(data_mode)\n",
        "print(\"Mode(s):\", mode_values)\n"
      ],
      "metadata": {
        "colab": {
          "base_uri": "https://localhost:8080/"
        },
        "id": "zJ0zSH4_lqK5",
        "outputId": "05e5464c-5b2e-45d0-df1d-a1350b2b1739"
      },
      "execution_count": 9,
      "outputs": [
        {
          "output_type": "stream",
          "name": "stdout",
          "text": [
            "Mode(s): [12]\n"
          ]
        }
      ]
    },
    {
      "cell_type": "code",
      "source": [],
      "metadata": {
        "id": "utXYtsqtlqYw"
      },
      "execution_count": null,
      "outputs": []
    }
  ]
}